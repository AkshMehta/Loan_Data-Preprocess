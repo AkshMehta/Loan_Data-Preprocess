{
 "cells": [
  {
   "cell_type": "markdown",
   "id": "05c8ad8a",
   "metadata": {},
   "source": [
    "# Importing the packages"
   ]
  },
  {
   "cell_type": "code",
   "execution_count": 1,
   "id": "e58dc823",
   "metadata": {},
   "outputs": [],
   "source": [
    "import numpy as np"
   ]
  },
  {
   "cell_type": "code",
   "execution_count": 2,
   "id": "ab3aa196",
   "metadata": {},
   "outputs": [],
   "source": [
    "np.set_printoptions(suppress = True, linewidth = 100, precision = 2)"
   ]
  },
  {
   "cell_type": "markdown",
   "id": "4eb0aba9",
   "metadata": {},
   "source": [
    "# Importing the data"
   ]
  },
  {
   "cell_type": "code",
   "execution_count": 3,
   "id": "d2eb7fbf",
   "metadata": {},
   "outputs": [
    {
     "data": {
      "text/plain": [
       "array([[48010226.  ,         nan,    35000.  , ...,         nan,         nan,     9452.96],\n",
       "       [57693261.  ,         nan,    30000.  , ...,         nan,         nan,     4679.7 ],\n",
       "       [59432726.  ,         nan,    15000.  , ...,         nan,         nan,     1969.83],\n",
       "       ...,\n",
       "       [50415990.  ,         nan,    10000.  , ...,         nan,         nan,     2185.64],\n",
       "       [46154151.  ,         nan,         nan, ...,         nan,         nan,     3199.4 ],\n",
       "       [66055249.  ,         nan,    10000.  , ...,         nan,         nan,      301.9 ]])"
      ]
     },
     "execution_count": 3,
     "metadata": {},
     "output_type": "execute_result"
    }
   ],
   "source": [
    "raw_data_np = np.genfromtxt(\"loan-data.csv\",delimiter=\";\",skip_header=True,autostrip=True)\n",
    "raw_data_np"
   ]
  },
  {
   "cell_type": "markdown",
   "id": "a4ebdaec",
   "metadata": {},
   "source": [
    "# Chceking for incomplete data"
   ]
  },
  {
   "cell_type": "code",
   "execution_count": 4,
   "id": "b355ca09",
   "metadata": {},
   "outputs": [
    {
     "data": {
      "text/plain": [
       "88005"
      ]
     },
     "execution_count": 4,
     "metadata": {},
     "output_type": "execute_result"
    }
   ],
   "source": [
    "np.isnan(raw_data_np).sum()"
   ]
  },
  {
   "cell_type": "code",
   "execution_count": 5,
   "id": "c542dd16",
   "metadata": {},
   "outputs": [
    {
     "name": "stderr",
     "output_type": "stream",
     "text": [
      "C:\\Users\\Aksh Mehta\\AppData\\Local\\Temp\\ipykernel_25688\\3953962029.py:2: RuntimeWarning: Mean of empty slice\n",
      "  temporary_mean = np.nanmean(raw_data_np,axis=0)\n"
     ]
    }
   ],
   "source": [
    "temporary_fill = np.nanmax(raw_data_np) + 1\n",
    "temporary_mean = np.nanmean(raw_data_np,axis=0)"
   ]
  },
  {
   "cell_type": "code",
   "execution_count": 6,
   "id": "f6c182aa",
   "metadata": {},
   "outputs": [
    {
     "data": {
      "text/plain": [
       "array([54015809.19,         nan,    15273.46,         nan,    15311.04,         nan,       16.62,\n",
       "            440.92,         nan,         nan,         nan,         nan,         nan,     3143.85])"
      ]
     },
     "execution_count": 6,
     "metadata": {},
     "output_type": "execute_result"
    }
   ],
   "source": [
    "temporary_mean"
   ]
  },
  {
   "cell_type": "code",
   "execution_count": 7,
   "id": "8c34ba89",
   "metadata": {},
   "outputs": [
    {
     "name": "stderr",
     "output_type": "stream",
     "text": [
      "C:\\Users\\Aksh Mehta\\AppData\\Local\\Temp\\ipykernel_25688\\3294397240.py:1: RuntimeWarning: All-NaN slice encountered\n",
      "  temporary_stats = np.array([np.nanmin(raw_data_np,axis=0),temporary_mean,np.nanmax(raw_data_np,axis=0)])\n"
     ]
    }
   ],
   "source": [
    "temporary_stats = np.array([np.nanmin(raw_data_np,axis=0),temporary_mean,np.nanmax(raw_data_np,axis=0)])"
   ]
  },
  {
   "cell_type": "code",
   "execution_count": 8,
   "id": "a5ad4c58",
   "metadata": {},
   "outputs": [
    {
     "data": {
      "text/plain": [
       "array([[  373332.  ,         nan,     1000.  ,         nan,     1000.  ,         nan,        6.  ,\n",
       "              31.42,         nan,         nan,         nan,         nan,         nan,        0.  ],\n",
       "       [54015809.19,         nan,    15273.46,         nan,    15311.04,         nan,       16.62,\n",
       "             440.92,         nan,         nan,         nan,         nan,         nan,     3143.85],\n",
       "       [68616519.  ,         nan,    35000.  ,         nan,    35000.  ,         nan,       28.99,\n",
       "            1372.97,         nan,         nan,         nan,         nan,         nan,    41913.62]])"
      ]
     },
     "execution_count": 8,
     "metadata": {},
     "output_type": "execute_result"
    }
   ],
   "source": [
    "temporary_stats"
   ]
  },
  {
   "cell_type": "markdown",
   "id": "096ce9b7",
   "metadata": {},
   "source": [
    "# Splitting the dataset"
   ]
  },
  {
   "cell_type": "markdown",
   "id": "95b2c8f2",
   "metadata": {},
   "source": [
    "# splitting the columns of numeric data and text data"
   ]
  },
  {
   "cell_type": "markdown",
   "id": "3a6d2bad",
   "metadata": {},
   "source": [
    "# To get the indices of the column that only contains strings and argwhere check whether the values are different than zero"
   ]
  },
  {
   "cell_type": "code",
   "execution_count": 9,
   "id": "e6be4760",
   "metadata": {},
   "outputs": [],
   "source": [
    "column_strings = np.argwhere(np.isnan(temporary_mean)).squeeze()"
   ]
  },
  {
   "cell_type": "code",
   "execution_count": 10,
   "id": "2ccf602d",
   "metadata": {},
   "outputs": [
    {
     "data": {
      "text/plain": [
       "array([ 1,  3,  5,  8,  9, 10, 11, 12], dtype=int64)"
      ]
     },
     "execution_count": 10,
     "metadata": {},
     "output_type": "execute_result"
    }
   ],
   "source": [
    "column_strings"
   ]
  },
  {
   "cell_type": "markdown",
   "id": "377a4166",
   "metadata": {},
   "source": [
    "# To get the indices of the column that only contains integers and argwhere check whether the values are different than zero"
   ]
  },
  {
   "cell_type": "code",
   "execution_count": 11,
   "id": "895e3ebd",
   "metadata": {},
   "outputs": [],
   "source": [
    "column_integers = np.argwhere(np.isnan(temporary_mean) == False).squeeze()"
   ]
  },
  {
   "cell_type": "code",
   "execution_count": 12,
   "id": "10eda1fb",
   "metadata": {},
   "outputs": [
    {
     "data": {
      "text/plain": [
       "array([ 0,  2,  4,  6,  7, 13], dtype=int64)"
      ]
     },
     "execution_count": 12,
     "metadata": {},
     "output_type": "execute_result"
    }
   ],
   "source": [
    "column_integers"
   ]
  },
  {
   "cell_type": "markdown",
   "id": "7a581fff",
   "metadata": {},
   "source": [
    "# Re-importing the dataset"
   ]
  },
  {
   "cell_type": "code",
   "execution_count": 13,
   "id": "d0c76e57",
   "metadata": {},
   "outputs": [
    {
     "name": "stderr",
     "output_type": "stream",
     "text": [
      "C:\\Users\\Aksh Mehta\\AppData\\Local\\Temp\\ipykernel_25688\\928929677.py:1: DeprecationWarning: `np.str` is a deprecated alias for the builtin `str`. To silence this warning, use `str` by itself. Doing this will not modify any behavior and is safe. If you specifically wanted the numpy scalar type, use `np.str_` here.\n",
      "Deprecated in NumPy 1.20; for more details and guidance: https://numpy.org/devdocs/release/1.20.0-notes.html#deprecations\n",
      "  loan_data_strings = np.genfromtxt(\"loan-data.csv\",delimiter=\";\",skip_header=1,autostrip=True,usecols = column_strings, dtype = np.str)\n"
     ]
    },
    {
     "data": {
      "text/plain": [
       "array([['May-15', 'Current', '36 months', ..., 'Verified',\n",
       "        'https://www.lendingclub.com/browse/loanDetail.action?loan_id=48010226', 'CA'],\n",
       "       ['', 'Current', '36 months', ..., 'Source Verified',\n",
       "        'https://www.lendingclub.com/browse/loanDetail.action?loan_id=57693261', 'NY'],\n",
       "       ['Sep-15', 'Current', '36 months', ..., 'Verified',\n",
       "        'https://www.lendingclub.com/browse/loanDetail.action?loan_id=59432726', 'PA'],\n",
       "       ...,\n",
       "       ['Jun-15', 'Current', '36 months', ..., 'Source Verified',\n",
       "        'https://www.lendingclub.com/browse/loanDetail.action?loan_id=50415990', 'CA'],\n",
       "       ['Apr-15', 'Current', '36 months', ..., 'Source Verified',\n",
       "        'https://www.lendingclub.com/browse/loanDetail.action?loan_id=46154151', 'OH'],\n",
       "       ['Dec-15', 'Current', '36 months', ..., '',\n",
       "        'https://www.lendingclub.com/browse/loanDetail.action?loan_id=66055249', 'IL']],\n",
       "      dtype='<U69')"
      ]
     },
     "execution_count": 13,
     "metadata": {},
     "output_type": "execute_result"
    }
   ],
   "source": [
    "loan_data_strings = np.genfromtxt(\"loan-data.csv\",delimiter=\";\",skip_header=1,autostrip=True,usecols = column_strings, dtype = np.str)\n",
    "loan_data_strings"
   ]
  },
  {
   "cell_type": "code",
   "execution_count": 14,
   "id": "712028b1",
   "metadata": {},
   "outputs": [
    {
     "name": "stderr",
     "output_type": "stream",
     "text": [
      "C:\\Users\\Aksh Mehta\\AppData\\Local\\Temp\\ipykernel_25688\\520101001.py:1: DeprecationWarning: `np.int` is a deprecated alias for the builtin `int`. To silence this warning, use `int` by itself. Doing this will not modify any behavior and is safe. When replacing `np.int`, you may wish to use e.g. `np.int64` or `np.int32` to specify the precision. If you wish to review your current use, check the release note link for additional information.\n",
      "Deprecated in NumPy 1.20; for more details and guidance: https://numpy.org/devdocs/release/1.20.0-notes.html#deprecations\n",
      "  loan_data_numeric = np.genfromtxt(\"loan-data.csv\",delimiter=\";\",skip_header=True,autostrip=True,usecols = column_integers, dtype = np.int,filling_values = temporary_fill)\n"
     ]
    },
    {
     "data": {
      "text/plain": [
       "array([[48010226,    35000,    35000,       13,     1184,     9452],\n",
       "       [57693261,    30000,    30000, 68616520,      938,     4679],\n",
       "       [59432726,    15000,    15000, 68616520,      494,     1969],\n",
       "       ...,\n",
       "       [50415990,    10000,    10000, 68616520, 68616520,     2185],\n",
       "       [46154151, 68616520,    10000,       16,      354,     3199],\n",
       "       [66055249,    10000,    10000, 68616520,      309,      301]])"
      ]
     },
     "execution_count": 14,
     "metadata": {},
     "output_type": "execute_result"
    }
   ],
   "source": [
    "loan_data_numeric = np.genfromtxt(\"loan-data.csv\",delimiter=\";\",skip_header=True,autostrip=True,usecols = column_integers, dtype = np.int,filling_values = temporary_fill)\n",
    "loan_data_numeric"
   ]
  },
  {
   "cell_type": "markdown",
   "id": "a7ca34af",
   "metadata": {},
   "source": [
    "# The Name of the columns"
   ]
  },
  {
   "cell_type": "code",
   "execution_count": 15,
   "id": "c59e183f",
   "metadata": {},
   "outputs": [
    {
     "name": "stderr",
     "output_type": "stream",
     "text": [
      "C:\\Users\\Aksh Mehta\\AppData\\Local\\Temp\\ipykernel_25688\\2593420701.py:1: DeprecationWarning: `np.str` is a deprecated alias for the builtin `str`. To silence this warning, use `str` by itself. Doing this will not modify any behavior and is safe. If you specifically wanted the numpy scalar type, use `np.str_` here.\n",
      "Deprecated in NumPy 1.20; for more details and guidance: https://numpy.org/devdocs/release/1.20.0-notes.html#deprecations\n",
      "  header_full_strings = np.genfromtxt(\"loan-data.csv\",delimiter=\";\",skip_footer=raw_data_np.shape[0],autostrip=True, dtype = np.str)\n"
     ]
    },
    {
     "data": {
      "text/plain": [
       "array(['id', 'issue_d', 'loan_amnt', 'loan_status', 'funded_amnt', 'term', 'int_rate',\n",
       "       'installment', 'grade', 'sub_grade', 'verification_status', 'url', 'addr_state',\n",
       "       'total_pymnt'], dtype='<U19')"
      ]
     },
     "execution_count": 15,
     "metadata": {},
     "output_type": "execute_result"
    }
   ],
   "source": [
    "header_full_strings = np.genfromtxt(\"loan-data.csv\",delimiter=\";\",skip_footer=raw_data_np.shape[0],autostrip=True, dtype = np.str)\n",
    "header_full_strings"
   ]
  },
  {
   "cell_type": "code",
   "execution_count": 16,
   "id": "d700fd39",
   "metadata": {},
   "outputs": [],
   "source": [
    "header_strings,header_numeric = header_full_strings[column_strings],header_full_strings[column_integers]"
   ]
  },
  {
   "cell_type": "code",
   "execution_count": 17,
   "id": "a5d92553",
   "metadata": {},
   "outputs": [
    {
     "data": {
      "text/plain": [
       "array(['issue_d', 'loan_status', 'term', 'grade', 'sub_grade', 'verification_status', 'url',\n",
       "       'addr_state'], dtype='<U19')"
      ]
     },
     "execution_count": 17,
     "metadata": {},
     "output_type": "execute_result"
    }
   ],
   "source": [
    "header_strings"
   ]
  },
  {
   "cell_type": "code",
   "execution_count": 18,
   "id": "bcfcbc70",
   "metadata": {},
   "outputs": [
    {
     "data": {
      "text/plain": [
       "array(['id', 'loan_amnt', 'funded_amnt', 'int_rate', 'installment', 'total_pymnt'], dtype='<U19')"
      ]
     },
     "execution_count": 18,
     "metadata": {},
     "output_type": "execute_result"
    }
   ],
   "source": [
    "header_numeric"
   ]
  },
  {
   "cell_type": "markdown",
   "id": "f2d8bc9e",
   "metadata": {},
   "source": [
    "# Creating Checkpoints"
   ]
  },
  {
   "cell_type": "markdown",
   "id": "96186ad1",
   "metadata": {},
   "source": [
    "#  Checkpoints are Places throughout our code where we store the copy of our dataset"
   ]
  },
  {
   "cell_type": "code",
   "execution_count": 19,
   "id": "5382fc98",
   "metadata": {},
   "outputs": [],
   "source": [
    "def checkpoint(file_name,checkpoint_header,checkpoint_data):\n",
    "    np.savez(file_name,header=checkpoint_header,data=checkpoint_data)\n",
    "    checkpoint_variable = np.load(file_name + \".npz\")\n",
    "    return (checkpoint_variable)"
   ]
  },
  {
   "cell_type": "code",
   "execution_count": 20,
   "id": "0c8dd5f2",
   "metadata": {},
   "outputs": [],
   "source": [
    "checkpoint_test = checkpoint(\"checkpoint-test\",header_strings,loan_data_strings)"
   ]
  },
  {
   "cell_type": "code",
   "execution_count": 21,
   "id": "32f5b2a0",
   "metadata": {},
   "outputs": [
    {
     "data": {
      "text/plain": [
       "array(['issue_d', 'loan_status', 'term', 'grade', 'sub_grade', 'verification_status', 'url',\n",
       "       'addr_state'], dtype='<U19')"
      ]
     },
     "execution_count": 21,
     "metadata": {},
     "output_type": "execute_result"
    }
   ],
   "source": [
    "checkpoint_test['header']"
   ]
  },
  {
   "cell_type": "code",
   "execution_count": 22,
   "id": "175ab07d",
   "metadata": {},
   "outputs": [
    {
     "data": {
      "text/plain": [
       "array([['May-15', 'Current', '36 months', ..., 'Verified',\n",
       "        'https://www.lendingclub.com/browse/loanDetail.action?loan_id=48010226', 'CA'],\n",
       "       ['', 'Current', '36 months', ..., 'Source Verified',\n",
       "        'https://www.lendingclub.com/browse/loanDetail.action?loan_id=57693261', 'NY'],\n",
       "       ['Sep-15', 'Current', '36 months', ..., 'Verified',\n",
       "        'https://www.lendingclub.com/browse/loanDetail.action?loan_id=59432726', 'PA'],\n",
       "       ...,\n",
       "       ['Jun-15', 'Current', '36 months', ..., 'Source Verified',\n",
       "        'https://www.lendingclub.com/browse/loanDetail.action?loan_id=50415990', 'CA'],\n",
       "       ['Apr-15', 'Current', '36 months', ..., 'Source Verified',\n",
       "        'https://www.lendingclub.com/browse/loanDetail.action?loan_id=46154151', 'OH'],\n",
       "       ['Dec-15', 'Current', '36 months', ..., '',\n",
       "        'https://www.lendingclub.com/browse/loanDetail.action?loan_id=66055249', 'IL']],\n",
       "      dtype='<U69')"
      ]
     },
     "execution_count": 22,
     "metadata": {},
     "output_type": "execute_result"
    }
   ],
   "source": [
    "checkpoint_test['data']"
   ]
  },
  {
   "cell_type": "code",
   "execution_count": 23,
   "id": "a6a47b8a",
   "metadata": {},
   "outputs": [
    {
     "data": {
      "text/plain": [
       "True"
      ]
     },
     "execution_count": 23,
     "metadata": {},
     "output_type": "execute_result"
    }
   ],
   "source": [
    "np.array_equal(checkpoint_test['data'],loan_data_strings)"
   ]
  },
  {
   "cell_type": "code",
   "execution_count": 24,
   "id": "2e6520a8",
   "metadata": {},
   "outputs": [
    {
     "data": {
      "text/plain": [
       "True"
      ]
     },
     "execution_count": 24,
     "metadata": {},
     "output_type": "execute_result"
    }
   ],
   "source": [
    "np.array_equal(checkpoint_test['header'],header_strings)"
   ]
  },
  {
   "cell_type": "markdown",
   "id": "0db80c99",
   "metadata": {},
   "source": [
    "# Manipulating string columns"
   ]
  },
  {
   "cell_type": "code",
   "execution_count": 25,
   "id": "180f8415",
   "metadata": {},
   "outputs": [
    {
     "data": {
      "text/plain": [
       "array(['issue_d', 'loan_status', 'term', 'grade', 'sub_grade', 'verification_status', 'url',\n",
       "       'addr_state'], dtype='<U19')"
      ]
     },
     "execution_count": 25,
     "metadata": {},
     "output_type": "execute_result"
    }
   ],
   "source": [
    "header_strings"
   ]
  },
  {
   "cell_type": "code",
   "execution_count": 26,
   "id": "0c752f10",
   "metadata": {},
   "outputs": [],
   "source": [
    "header_strings[0] = \"issue_date\""
   ]
  },
  {
   "cell_type": "code",
   "execution_count": 27,
   "id": "2d07bf2b",
   "metadata": {},
   "outputs": [
    {
     "data": {
      "text/plain": [
       "array(['issue_date', 'loan_status', 'term', 'grade', 'sub_grade', 'verification_status', 'url',\n",
       "       'addr_state'], dtype='<U19')"
      ]
     },
     "execution_count": 27,
     "metadata": {},
     "output_type": "execute_result"
    }
   ],
   "source": [
    "header_strings"
   ]
  },
  {
   "cell_type": "code",
   "execution_count": 28,
   "id": "0908c9b0",
   "metadata": {},
   "outputs": [
    {
     "data": {
      "text/plain": [
       "array([['May-15', 'Current', '36 months', ..., 'Verified',\n",
       "        'https://www.lendingclub.com/browse/loanDetail.action?loan_id=48010226', 'CA'],\n",
       "       ['', 'Current', '36 months', ..., 'Source Verified',\n",
       "        'https://www.lendingclub.com/browse/loanDetail.action?loan_id=57693261', 'NY'],\n",
       "       ['Sep-15', 'Current', '36 months', ..., 'Verified',\n",
       "        'https://www.lendingclub.com/browse/loanDetail.action?loan_id=59432726', 'PA'],\n",
       "       ...,\n",
       "       ['Jun-15', 'Current', '36 months', ..., 'Source Verified',\n",
       "        'https://www.lendingclub.com/browse/loanDetail.action?loan_id=50415990', 'CA'],\n",
       "       ['Apr-15', 'Current', '36 months', ..., 'Source Verified',\n",
       "        'https://www.lendingclub.com/browse/loanDetail.action?loan_id=46154151', 'OH'],\n",
       "       ['Dec-15', 'Current', '36 months', ..., '',\n",
       "        'https://www.lendingclub.com/browse/loanDetail.action?loan_id=66055249', 'IL']],\n",
       "      dtype='<U69')"
      ]
     },
     "execution_count": 28,
     "metadata": {},
     "output_type": "execute_result"
    }
   ],
   "source": [
    "loan_data_strings"
   ]
  },
  {
   "cell_type": "markdown",
   "id": "7148cd8e",
   "metadata": {},
   "source": [
    "# Issue Date(change the name to months to numbers)"
   ]
  },
  {
   "cell_type": "code",
   "execution_count": 29,
   "id": "afe89c1d",
   "metadata": {},
   "outputs": [
    {
     "data": {
      "text/plain": [
       "array(['', 'Apr-15', 'Aug-15', 'Dec-15', 'Feb-15', 'Jan-15', 'Jul-15', 'Jun-15', 'Mar-15',\n",
       "       'May-15', 'Nov-15', 'Oct-15', 'Sep-15'], dtype='<U69')"
      ]
     },
     "execution_count": 29,
     "metadata": {},
     "output_type": "execute_result"
    }
   ],
   "source": [
    "np.unique(loan_data_strings[:,0])"
   ]
  },
  {
   "cell_type": "markdown",
   "id": "9bc67e8b",
   "metadata": {},
   "source": [
    "# To remove -15 we will use the strip method"
   ]
  },
  {
   "cell_type": "code",
   "execution_count": 30,
   "id": "64ce0a7d",
   "metadata": {},
   "outputs": [],
   "source": [
    "loan_data_strings[:,0] = np.chararray.strip(loan_data_strings[:,0],\"-15\")"
   ]
  },
  {
   "cell_type": "code",
   "execution_count": 31,
   "id": "f58ed1f4",
   "metadata": {},
   "outputs": [
    {
     "data": {
      "text/plain": [
       "array(['May', '', 'Sep', ..., 'Jun', 'Apr', 'Dec'], dtype='<U69')"
      ]
     },
     "execution_count": 31,
     "metadata": {},
     "output_type": "execute_result"
    }
   ],
   "source": [
    "loan_data_strings[:,0]"
   ]
  },
  {
   "cell_type": "code",
   "execution_count": 32,
   "id": "98cb5428",
   "metadata": {},
   "outputs": [
    {
     "data": {
      "text/plain": [
       "array(['', 'Apr', 'Aug', 'Dec', 'Feb', 'Jan', 'Jul', 'Jun', 'Mar', 'May', 'Nov', 'Oct', 'Sep'],\n",
       "      dtype='<U69')"
      ]
     },
     "execution_count": 32,
     "metadata": {},
     "output_type": "execute_result"
    }
   ],
   "source": [
    "np.unique(loan_data_strings[:,0])"
   ]
  },
  {
   "cell_type": "markdown",
   "id": "014d8097",
   "metadata": {},
   "source": [
    "# Now to replace the values for jan,feb... to 1,2.... we will use np.where function"
   ]
  },
  {
   "cell_type": "code",
   "execution_count": 33,
   "id": "ba756805",
   "metadata": {},
   "outputs": [],
   "source": [
    "months = np.array(['','Jan','Feb','Mar','Apr','May','Jun','Jul','Aug','Sep','Oct','Nov','Dec'])"
   ]
  },
  {
   "cell_type": "code",
   "execution_count": 34,
   "id": "f7cebc91",
   "metadata": {},
   "outputs": [],
   "source": [
    "for i in range(13):\n",
    "    loan_data_strings[:,0] = np.where(loan_data_strings[:,0] == months[i],\n",
    "                                     i,\n",
    "                                     loan_data_strings[:,0])"
   ]
  },
  {
   "cell_type": "code",
   "execution_count": 35,
   "id": "2e9aac9f",
   "metadata": {},
   "outputs": [
    {
     "data": {
      "text/plain": [
       "array(['5', '0', '9', ..., '6', '4', '12'], dtype='<U69')"
      ]
     },
     "execution_count": 35,
     "metadata": {},
     "output_type": "execute_result"
    }
   ],
   "source": [
    "loan_data_strings[:,0]"
   ]
  },
  {
   "cell_type": "code",
   "execution_count": 36,
   "id": "e6fbb1f7",
   "metadata": {},
   "outputs": [
    {
     "data": {
      "text/plain": [
       "array(['0', '1', '10', '11', '12', '2', '3', '4', '5', '6', '7', '8', '9'], dtype='<U69')"
      ]
     },
     "execution_count": 36,
     "metadata": {},
     "output_type": "execute_result"
    }
   ],
   "source": [
    "np.unique(loan_data_strings[:,0])"
   ]
  },
  {
   "cell_type": "markdown",
   "id": "bd1fc2d0",
   "metadata": {},
   "source": [
    "# Loan Status"
   ]
  },
  {
   "cell_type": "code",
   "execution_count": 37,
   "id": "06e3c1a7",
   "metadata": {},
   "outputs": [
    {
     "data": {
      "text/plain": [
       "array(['issue_date', 'loan_status', 'term', 'grade', 'sub_grade', 'verification_status', 'url',\n",
       "       'addr_state'], dtype='<U19')"
      ]
     },
     "execution_count": 37,
     "metadata": {},
     "output_type": "execute_result"
    }
   ],
   "source": [
    "header_strings"
   ]
  },
  {
   "cell_type": "code",
   "execution_count": 38,
   "id": "c4dccb92",
   "metadata": {},
   "outputs": [
    {
     "data": {
      "text/plain": [
       "array(['Current', 'Current', 'Current', ..., 'Current', 'Current', 'Current'], dtype='<U69')"
      ]
     },
     "execution_count": 38,
     "metadata": {},
     "output_type": "execute_result"
    }
   ],
   "source": [
    "loan_data_strings[:,1]"
   ]
  },
  {
   "cell_type": "code",
   "execution_count": 39,
   "id": "2f941d1b",
   "metadata": {},
   "outputs": [
    {
     "data": {
      "text/plain": [
       "array(['', 'Charged Off', 'Current', 'Default', 'Fully Paid', 'In Grace Period', 'Issued',\n",
       "       'Late (16-30 days)', 'Late (31-120 days)'], dtype='<U69')"
      ]
     },
     "execution_count": 39,
     "metadata": {},
     "output_type": "execute_result"
    }
   ],
   "source": [
    "np.unique(loan_data_strings[:,1])"
   ]
  },
  {
   "cell_type": "code",
   "execution_count": 40,
   "id": "5a35fe84",
   "metadata": {},
   "outputs": [
    {
     "data": {
      "text/plain": [
       "9"
      ]
     },
     "execution_count": 40,
     "metadata": {},
     "output_type": "execute_result"
    }
   ],
   "source": [
    "np.unique(loan_data_strings[:,1]).size"
   ]
  },
  {
   "cell_type": "markdown",
   "id": "6b0be70b",
   "metadata": {},
   "source": [
    "# Seggregate the values as per good customer and bad customer with 0 and 1"
   ]
  },
  {
   "cell_type": "code",
   "execution_count": 41,
   "id": "12403d52",
   "metadata": {},
   "outputs": [
    {
     "data": {
      "text/plain": [
       "array(['', 'Charged Off', 'Default', 'Late (31-120 days)'], dtype='<U18')"
      ]
     },
     "execution_count": 41,
     "metadata": {},
     "output_type": "execute_result"
    }
   ],
   "source": [
    "status_bad = np.array(['','Charged Off','Default','Late (31-120 days)'])\n",
    "status_bad"
   ]
  },
  {
   "cell_type": "code",
   "execution_count": 42,
   "id": "10661584",
   "metadata": {},
   "outputs": [],
   "source": [
    "loan_data_strings[:,1] = np.where(np.isin(loan_data_strings[:,1],status_bad),0,1)"
   ]
  },
  {
   "cell_type": "code",
   "execution_count": 43,
   "id": "99661a40",
   "metadata": {},
   "outputs": [
    {
     "data": {
      "text/plain": [
       "array(['0', '1'], dtype='<U69')"
      ]
     },
     "execution_count": 43,
     "metadata": {},
     "output_type": "execute_result"
    }
   ],
   "source": [
    "np.unique(loan_data_strings[:,1])"
   ]
  },
  {
   "cell_type": "markdown",
   "id": "d32b03e2",
   "metadata": {},
   "source": [
    "# Term"
   ]
  },
  {
   "cell_type": "code",
   "execution_count": 44,
   "id": "06176eda",
   "metadata": {},
   "outputs": [
    {
     "data": {
      "text/plain": [
       "array(['issue_date', 'loan_status', 'term', 'grade', 'sub_grade', 'verification_status', 'url',\n",
       "       'addr_state'], dtype='<U19')"
      ]
     },
     "execution_count": 44,
     "metadata": {},
     "output_type": "execute_result"
    }
   ],
   "source": [
    "header_strings"
   ]
  },
  {
   "cell_type": "code",
   "execution_count": 45,
   "id": "383d5603",
   "metadata": {},
   "outputs": [
    {
     "data": {
      "text/plain": [
       "array(['', '36 months', '60 months'], dtype='<U69')"
      ]
     },
     "execution_count": 45,
     "metadata": {},
     "output_type": "execute_result"
    }
   ],
   "source": [
    "np.unique(loan_data_strings[:,2])"
   ]
  },
  {
   "cell_type": "markdown",
   "id": "78b7df32",
   "metadata": {},
   "source": [
    "# Strip the value months from the term column"
   ]
  },
  {
   "cell_type": "code",
   "execution_count": 46,
   "id": "4b94b512",
   "metadata": {},
   "outputs": [],
   "source": [
    "loan_data_strings[:,2] = np.chararray.strip(loan_data_strings[:,2],\" months\")"
   ]
  },
  {
   "cell_type": "code",
   "execution_count": 47,
   "id": "bcb3417b",
   "metadata": {},
   "outputs": [
    {
     "data": {
      "text/plain": [
       "array(['36', '36', '36', ..., '36', '36', '36'], dtype='<U69')"
      ]
     },
     "execution_count": 47,
     "metadata": {},
     "output_type": "execute_result"
    }
   ],
   "source": [
    "loan_data_strings[:,2]"
   ]
  },
  {
   "cell_type": "code",
   "execution_count": 48,
   "id": "ee7d8bf7",
   "metadata": {},
   "outputs": [],
   "source": [
    "header_strings[2] = \"term_months\""
   ]
  },
  {
   "cell_type": "markdown",
   "id": "e6c8ec6f",
   "metadata": {},
   "source": [
    "# Now we will replace the missing values with 60(term) as we will assume the worst"
   ]
  },
  {
   "cell_type": "code",
   "execution_count": 49,
   "id": "69a30c7c",
   "metadata": {},
   "outputs": [],
   "source": [
    "loan_data_strings[:,2] = np.where(loan_data_strings[:,2] == '',\n",
    "                                 '60',\n",
    "                                  loan_data_strings[:,2])"
   ]
  },
  {
   "cell_type": "code",
   "execution_count": 50,
   "id": "66bc3fc8",
   "metadata": {},
   "outputs": [
    {
     "data": {
      "text/plain": [
       "array(['36', '36', '36', ..., '36', '36', '36'], dtype='<U69')"
      ]
     },
     "execution_count": 50,
     "metadata": {},
     "output_type": "execute_result"
    }
   ],
   "source": [
    "loan_data_strings[:,2]"
   ]
  },
  {
   "cell_type": "code",
   "execution_count": 51,
   "id": "d9c1e08a",
   "metadata": {},
   "outputs": [
    {
     "data": {
      "text/plain": [
       "array(['36', '60'], dtype='<U69')"
      ]
     },
     "execution_count": 51,
     "metadata": {},
     "output_type": "execute_result"
    }
   ],
   "source": [
    "np.unique(loan_data_strings[:,2])"
   ]
  },
  {
   "cell_type": "markdown",
   "id": "afec1ce3",
   "metadata": {},
   "source": [
    "# Grade and Sub grade"
   ]
  },
  {
   "cell_type": "code",
   "execution_count": 52,
   "id": "ddcdc6ee",
   "metadata": {},
   "outputs": [
    {
     "data": {
      "text/plain": [
       "array(['issue_date', 'loan_status', 'term_months', 'grade', 'sub_grade', 'verification_status',\n",
       "       'url', 'addr_state'], dtype='<U19')"
      ]
     },
     "execution_count": 52,
     "metadata": {},
     "output_type": "execute_result"
    }
   ],
   "source": [
    "header_strings"
   ]
  },
  {
   "cell_type": "code",
   "execution_count": 53,
   "id": "59fbb6fe",
   "metadata": {},
   "outputs": [
    {
     "data": {
      "text/plain": [
       "array(['C', 'A', 'B', ..., 'A', 'D', 'A'], dtype='<U69')"
      ]
     },
     "execution_count": 53,
     "metadata": {},
     "output_type": "execute_result"
    }
   ],
   "source": [
    "loan_data_strings[:,3]"
   ]
  },
  {
   "cell_type": "code",
   "execution_count": 54,
   "id": "fc97dd6d",
   "metadata": {},
   "outputs": [
    {
     "data": {
      "text/plain": [
       "array(['', 'A', 'B', 'C', 'D', 'E', 'F', 'G'], dtype='<U69')"
      ]
     },
     "execution_count": 54,
     "metadata": {},
     "output_type": "execute_result"
    }
   ],
   "source": [
    "np.unique(loan_data_strings[:,3])"
   ]
  },
  {
   "cell_type": "code",
   "execution_count": 55,
   "id": "7d0de6b1",
   "metadata": {},
   "outputs": [
    {
     "data": {
      "text/plain": [
       "array(['C3', 'A5', 'B5', ..., 'A5', 'D2', 'A4'], dtype='<U69')"
      ]
     },
     "execution_count": 55,
     "metadata": {},
     "output_type": "execute_result"
    }
   ],
   "source": [
    "loan_data_strings[:,4]"
   ]
  },
  {
   "cell_type": "code",
   "execution_count": 56,
   "id": "cdbddc98",
   "metadata": {},
   "outputs": [
    {
     "data": {
      "text/plain": [
       "array(['', 'A1', 'A2', 'A3', 'A4', 'A5', 'B1', 'B2', 'B3', 'B4', 'B5', 'C1', 'C2', 'C3', 'C4',\n",
       "       'C5', 'D1', 'D2', 'D3', 'D4', 'D5', 'E1', 'E2', 'E3', 'E4', 'E5', 'F1', 'F2', 'F3', 'F4',\n",
       "       'F5', 'G1', 'G2', 'G3', 'G4', 'G5'], dtype='<U69')"
      ]
     },
     "execution_count": 56,
     "metadata": {},
     "output_type": "execute_result"
    }
   ],
   "source": [
    "np.unique(loan_data_strings[:,4])"
   ]
  },
  {
   "cell_type": "markdown",
   "id": "d51c6d73",
   "metadata": {},
   "source": [
    "# Replace the empty values in sub grade with worst case scenario as per the grade of that column"
   ]
  },
  {
   "cell_type": "code",
   "execution_count": 57,
   "id": "e08ecfbc",
   "metadata": {},
   "outputs": [],
   "source": [
    "for i in np.unique(loan_data_strings[:,3])[1:]:\n",
    "    loan_data_strings[:,4] = np.where((loan_data_strings[:,4] == '') & (loan_data_strings[:,3] == i),\n",
    "                                        i + '5',\n",
    "                                       loan_data_strings[:,4])"
   ]
  },
  {
   "cell_type": "code",
   "execution_count": 58,
   "id": "ef72ab49",
   "metadata": {},
   "outputs": [
    {
     "data": {
      "text/plain": [
       "array(['', 'A1', 'A2', 'A3', 'A4', 'A5', 'B1', 'B2', 'B3', 'B4', 'B5', 'C1', 'C2', 'C3', 'C4',\n",
       "       'C5', 'D1', 'D2', 'D3', 'D4', 'D5', 'E1', 'E2', 'E3', 'E4', 'E5', 'F1', 'F2', 'F3', 'F4',\n",
       "       'F5', 'G1', 'G2', 'G3', 'G4', 'G5'], dtype='<U69')"
      ]
     },
     "execution_count": 58,
     "metadata": {},
     "output_type": "execute_result"
    }
   ],
   "source": [
    "np.unique(loan_data_strings[:,4])"
   ]
  },
  {
   "cell_type": "markdown",
   "id": "9fa598bc",
   "metadata": {},
   "source": [
    "# Return the counts of value repeated which shows there are 9 postions where both grade and subgrade have empty data"
   ]
  },
  {
   "cell_type": "code",
   "execution_count": 59,
   "id": "153ff56d",
   "metadata": {},
   "outputs": [
    {
     "data": {
      "text/plain": [
       "(array(['', 'A1', 'A2', 'A3', 'A4', 'A5', 'B1', 'B2', 'B3', 'B4', 'B5', 'C1', 'C2', 'C3', 'C4',\n",
       "        'C5', 'D1', 'D2', 'D3', 'D4', 'D5', 'E1', 'E2', 'E3', 'E4', 'E5', 'F1', 'F2', 'F3', 'F4',\n",
       "        'F5', 'G1', 'G2', 'G3', 'G4', 'G5'], dtype='<U69'),\n",
       " array([  9, 285, 278, 239, 323, 592, 509, 517, 530, 553, 633, 629, 567, 586, 564, 577, 391, 267,\n",
       "        250, 255, 288, 235, 162, 171, 139, 160,  94,  52,  34,  43,  24,  19,  10,   3,   7,   5],\n",
       "       dtype=int64))"
      ]
     },
     "execution_count": 59,
     "metadata": {},
     "output_type": "execute_result"
    }
   ],
   "source": [
    "np.unique(loan_data_strings[:,4],return_counts = True)"
   ]
  },
  {
   "cell_type": "code",
   "execution_count": 60,
   "id": "0a92f908",
   "metadata": {},
   "outputs": [
    {
     "data": {
      "text/plain": [
       "(10000, 8)"
      ]
     },
     "execution_count": 60,
     "metadata": {},
     "output_type": "execute_result"
    }
   ],
   "source": [
    "loan_data_strings.shape"
   ]
  },
  {
   "cell_type": "markdown",
   "id": "643d61e1",
   "metadata": {},
   "source": [
    "# As there are only 9/10000 positions where grade and sub-grade both are empty we can replace these values with some other grade (i.e. 'H1') as the count is negligible"
   ]
  },
  {
   "cell_type": "code",
   "execution_count": 61,
   "id": "bc4e615b",
   "metadata": {},
   "outputs": [
    {
     "data": {
      "text/plain": [
       "array(['', 'A1', 'A2', 'A3', 'A4', 'A5', 'B1', 'B2', 'B3', 'B4', 'B5', 'C1', 'C2', 'C3', 'C4',\n",
       "       'C5', 'D1', 'D2', 'D3', 'D4', 'D5', 'E1', 'E2', 'E3', 'E4', 'E5', 'F1', 'F2', 'F3', 'F4',\n",
       "       'F5', 'G1', 'G2', 'G3', 'G4', 'G5'], dtype='<U69')"
      ]
     },
     "execution_count": 61,
     "metadata": {},
     "output_type": "execute_result"
    }
   ],
   "source": [
    "np.unique(loan_data_strings[:,4])"
   ]
  },
  {
   "cell_type": "code",
   "execution_count": 62,
   "id": "1d75db62",
   "metadata": {},
   "outputs": [],
   "source": [
    "for i in np.unique(loan_data_strings[:,3])[1:]:\n",
    "    loan_data_strings[:,4] = np.where((loan_data_strings[:,4] == ''),\n",
    "                                        'H1',\n",
    "                                       loan_data_strings[:,4])"
   ]
  },
  {
   "cell_type": "code",
   "execution_count": 63,
   "id": "fbde8ebb",
   "metadata": {},
   "outputs": [
    {
     "data": {
      "text/plain": [
       "array(['A1', 'A2', 'A3', 'A4', 'A5', 'B1', 'B2', 'B3', 'B4', 'B5', 'C1', 'C2', 'C3', 'C4', 'C5',\n",
       "       'D1', 'D2', 'D3', 'D4', 'D5', 'E1', 'E2', 'E3', 'E4', 'E5', 'F1', 'F2', 'F3', 'F4', 'F5',\n",
       "       'G1', 'G2', 'G3', 'G4', 'G5', 'H1'], dtype='<U69')"
      ]
     },
     "execution_count": 63,
     "metadata": {},
     "output_type": "execute_result"
    }
   ],
   "source": [
    "np.unique(loan_data_strings[:,4])"
   ]
  },
  {
   "cell_type": "markdown",
   "id": "9d383934",
   "metadata": {},
   "source": [
    "# As we have replaced the necessary values in grade we can remove it"
   ]
  },
  {
   "cell_type": "code",
   "execution_count": 64,
   "id": "85365522",
   "metadata": {},
   "outputs": [],
   "source": [
    "loan_data_strings = np.delete(loan_data_strings,3,axis=1)"
   ]
  },
  {
   "cell_type": "code",
   "execution_count": 65,
   "id": "57ff00cc",
   "metadata": {},
   "outputs": [
    {
     "data": {
      "text/plain": [
       "array([['5', '1', '36', ..., 'Verified',\n",
       "        'https://www.lendingclub.com/browse/loanDetail.action?loan_id=48010226', 'CA'],\n",
       "       ['0', '1', '36', ..., 'Source Verified',\n",
       "        'https://www.lendingclub.com/browse/loanDetail.action?loan_id=57693261', 'NY'],\n",
       "       ['9', '1', '36', ..., 'Verified',\n",
       "        'https://www.lendingclub.com/browse/loanDetail.action?loan_id=59432726', 'PA'],\n",
       "       ...,\n",
       "       ['6', '1', '36', ..., 'Source Verified',\n",
       "        'https://www.lendingclub.com/browse/loanDetail.action?loan_id=50415990', 'CA'],\n",
       "       ['4', '1', '36', ..., 'Source Verified',\n",
       "        'https://www.lendingclub.com/browse/loanDetail.action?loan_id=46154151', 'OH'],\n",
       "       ['12', '1', '36', ..., '',\n",
       "        'https://www.lendingclub.com/browse/loanDetail.action?loan_id=66055249', 'IL']],\n",
       "      dtype='<U69')"
      ]
     },
     "execution_count": 65,
     "metadata": {},
     "output_type": "execute_result"
    }
   ],
   "source": [
    "loan_data_strings"
   ]
  },
  {
   "cell_type": "code",
   "execution_count": 66,
   "id": "3d6fe673",
   "metadata": {},
   "outputs": [
    {
     "data": {
      "text/plain": [
       "array(['issue_date', 'loan_status', 'term_months', 'grade', 'sub_grade', 'verification_status',\n",
       "       'url', 'addr_state'], dtype='<U19')"
      ]
     },
     "execution_count": 66,
     "metadata": {},
     "output_type": "execute_result"
    }
   ],
   "source": [
    "header_strings"
   ]
  },
  {
   "cell_type": "code",
   "execution_count": 67,
   "id": "65c7e181",
   "metadata": {},
   "outputs": [
    {
     "data": {
      "text/plain": [
       "array(['C3', 'A5', 'B5', ..., 'A5', 'D2', 'A4'], dtype='<U69')"
      ]
     },
     "execution_count": 67,
     "metadata": {},
     "output_type": "execute_result"
    }
   ],
   "source": [
    "loan_data_strings[:,3]"
   ]
  },
  {
   "cell_type": "code",
   "execution_count": 68,
   "id": "9c6d1d04",
   "metadata": {},
   "outputs": [],
   "source": [
    "header_strings = np.delete(header_strings,3)"
   ]
  },
  {
   "cell_type": "code",
   "execution_count": 69,
   "id": "adbe15df",
   "metadata": {},
   "outputs": [
    {
     "data": {
      "text/plain": [
       "array(['issue_date', 'loan_status', 'term_months', 'sub_grade', 'verification_status', 'url',\n",
       "       'addr_state'], dtype='<U19')"
      ]
     },
     "execution_count": 69,
     "metadata": {},
     "output_type": "execute_result"
    }
   ],
   "source": [
    "header_strings"
   ]
  },
  {
   "cell_type": "code",
   "execution_count": 70,
   "id": "0646bfa1",
   "metadata": {},
   "outputs": [
    {
     "data": {
      "text/plain": [
       "'sub_grade'"
      ]
     },
     "execution_count": 70,
     "metadata": {},
     "output_type": "execute_result"
    }
   ],
   "source": [
    "header_strings[3]"
   ]
  },
  {
   "cell_type": "markdown",
   "id": "94685d90",
   "metadata": {},
   "source": [
    "# Converting sub grade values to numbers"
   ]
  },
  {
   "cell_type": "code",
   "execution_count": 71,
   "id": "770b3c1a",
   "metadata": {},
   "outputs": [
    {
     "data": {
      "text/plain": [
       "array(['A1', 'A2', 'A3', 'A4', 'A5', 'B1', 'B2', 'B3', 'B4', 'B5', 'C1', 'C2', 'C3', 'C4', 'C5',\n",
       "       'D1', 'D2', 'D3', 'D4', 'D5', 'E1', 'E2', 'E3', 'E4', 'E5', 'F1', 'F2', 'F3', 'F4', 'F5',\n",
       "       'G1', 'G2', 'G3', 'G4', 'G5', 'H1'], dtype='<U69')"
      ]
     },
     "execution_count": 71,
     "metadata": {},
     "output_type": "execute_result"
    }
   ],
   "source": [
    "np.unique(loan_data_strings[:,3])"
   ]
  },
  {
   "cell_type": "code",
   "execution_count": 72,
   "id": "f062ded6",
   "metadata": {},
   "outputs": [],
   "source": [
    "keys = list(np.unique(loan_data_strings[:,3]))"
   ]
  },
  {
   "cell_type": "code",
   "execution_count": 73,
   "id": "ad2b5851",
   "metadata": {},
   "outputs": [
    {
     "data": {
      "text/plain": [
       "['A1',\n",
       " 'A2',\n",
       " 'A3',\n",
       " 'A4',\n",
       " 'A5',\n",
       " 'B1',\n",
       " 'B2',\n",
       " 'B3',\n",
       " 'B4',\n",
       " 'B5',\n",
       " 'C1',\n",
       " 'C2',\n",
       " 'C3',\n",
       " 'C4',\n",
       " 'C5',\n",
       " 'D1',\n",
       " 'D2',\n",
       " 'D3',\n",
       " 'D4',\n",
       " 'D5',\n",
       " 'E1',\n",
       " 'E2',\n",
       " 'E3',\n",
       " 'E4',\n",
       " 'E5',\n",
       " 'F1',\n",
       " 'F2',\n",
       " 'F3',\n",
       " 'F4',\n",
       " 'F5',\n",
       " 'G1',\n",
       " 'G2',\n",
       " 'G3',\n",
       " 'G4',\n",
       " 'G5',\n",
       " 'H1']"
      ]
     },
     "execution_count": 73,
     "metadata": {},
     "output_type": "execute_result"
    }
   ],
   "source": [
    "keys"
   ]
  },
  {
   "cell_type": "code",
   "execution_count": 74,
   "id": "2197b6d2",
   "metadata": {},
   "outputs": [],
   "source": [
    "values = list(range(1,np.unique(loan_data_strings[:,3]).shape[0] + 1))"
   ]
  },
  {
   "cell_type": "code",
   "execution_count": 75,
   "id": "389ba11c",
   "metadata": {},
   "outputs": [
    {
     "data": {
      "text/plain": [
       "[1,\n",
       " 2,\n",
       " 3,\n",
       " 4,\n",
       " 5,\n",
       " 6,\n",
       " 7,\n",
       " 8,\n",
       " 9,\n",
       " 10,\n",
       " 11,\n",
       " 12,\n",
       " 13,\n",
       " 14,\n",
       " 15,\n",
       " 16,\n",
       " 17,\n",
       " 18,\n",
       " 19,\n",
       " 20,\n",
       " 21,\n",
       " 22,\n",
       " 23,\n",
       " 24,\n",
       " 25,\n",
       " 26,\n",
       " 27,\n",
       " 28,\n",
       " 29,\n",
       " 30,\n",
       " 31,\n",
       " 32,\n",
       " 33,\n",
       " 34,\n",
       " 35,\n",
       " 36]"
      ]
     },
     "execution_count": 75,
     "metadata": {},
     "output_type": "execute_result"
    }
   ],
   "source": [
    "values"
   ]
  },
  {
   "cell_type": "code",
   "execution_count": 76,
   "id": "281dfb8f",
   "metadata": {},
   "outputs": [],
   "source": [
    "dict_sub_grade = dict(zip(keys,values))"
   ]
  },
  {
   "cell_type": "code",
   "execution_count": 77,
   "id": "87395a70",
   "metadata": {},
   "outputs": [
    {
     "data": {
      "text/plain": [
       "{'A1': 1,\n",
       " 'A2': 2,\n",
       " 'A3': 3,\n",
       " 'A4': 4,\n",
       " 'A5': 5,\n",
       " 'B1': 6,\n",
       " 'B2': 7,\n",
       " 'B3': 8,\n",
       " 'B4': 9,\n",
       " 'B5': 10,\n",
       " 'C1': 11,\n",
       " 'C2': 12,\n",
       " 'C3': 13,\n",
       " 'C4': 14,\n",
       " 'C5': 15,\n",
       " 'D1': 16,\n",
       " 'D2': 17,\n",
       " 'D3': 18,\n",
       " 'D4': 19,\n",
       " 'D5': 20,\n",
       " 'E1': 21,\n",
       " 'E2': 22,\n",
       " 'E3': 23,\n",
       " 'E4': 24,\n",
       " 'E5': 25,\n",
       " 'F1': 26,\n",
       " 'F2': 27,\n",
       " 'F3': 28,\n",
       " 'F4': 29,\n",
       " 'F5': 30,\n",
       " 'G1': 31,\n",
       " 'G2': 32,\n",
       " 'G3': 33,\n",
       " 'G4': 34,\n",
       " 'G5': 35,\n",
       " 'H1': 36}"
      ]
     },
     "execution_count": 77,
     "metadata": {},
     "output_type": "execute_result"
    }
   ],
   "source": [
    "dict_sub_grade"
   ]
  },
  {
   "cell_type": "code",
   "execution_count": 78,
   "id": "b9736770",
   "metadata": {},
   "outputs": [],
   "source": [
    "for i in np.unique(loan_data_strings[:,3]):\n",
    "    loan_data_strings[:,3] = np.where(loan_data_strings[:,3] == i,\n",
    "                                      dict_sub_grade[i],\n",
    "                                      loan_data_strings[:,3])"
   ]
  },
  {
   "cell_type": "code",
   "execution_count": 79,
   "id": "f48cdffc",
   "metadata": {},
   "outputs": [
    {
     "data": {
      "text/plain": [
       "array(['13', '5', '10', ..., '5', '17', '4'], dtype='<U69')"
      ]
     },
     "execution_count": 79,
     "metadata": {},
     "output_type": "execute_result"
    }
   ],
   "source": [
    "loan_data_strings[:,3]"
   ]
  },
  {
   "cell_type": "code",
   "execution_count": 80,
   "id": "41aa1da9",
   "metadata": {},
   "outputs": [
    {
     "data": {
      "text/plain": [
       "array(['1', '10', '11', '12', '13', '14', '15', '16', '17', '18', '19', '2', '20', '21', '22',\n",
       "       '23', '24', '25', '26', '27', '28', '29', '3', '30', '31', '32', '33', '34', '35', '36',\n",
       "       '4', '5', '6', '7', '8', '9'], dtype='<U69')"
      ]
     },
     "execution_count": 80,
     "metadata": {},
     "output_type": "execute_result"
    }
   ],
   "source": [
    "np.unique(loan_data_strings[:,3])"
   ]
  },
  {
   "cell_type": "code",
   "execution_count": 81,
   "id": "1bb6a742",
   "metadata": {},
   "outputs": [
    {
     "data": {
      "text/plain": [
       "array(['issue_date', 'loan_status', 'term_months', 'sub_grade', 'verification_status', 'url',\n",
       "       'addr_state'], dtype='<U19')"
      ]
     },
     "execution_count": 81,
     "metadata": {},
     "output_type": "execute_result"
    }
   ],
   "source": [
    "header_strings"
   ]
  },
  {
   "cell_type": "code",
   "execution_count": 82,
   "id": "815d78f5",
   "metadata": {},
   "outputs": [
    {
     "data": {
      "text/plain": [
       "array(['id', 'loan_amnt', 'funded_amnt', 'int_rate', 'installment', 'total_pymnt'], dtype='<U19')"
      ]
     },
     "execution_count": 82,
     "metadata": {},
     "output_type": "execute_result"
    }
   ],
   "source": [
    "header_numeric"
   ]
  },
  {
   "cell_type": "markdown",
   "id": "5e4bb19e",
   "metadata": {},
   "source": [
    "# Verification Status"
   ]
  },
  {
   "cell_type": "markdown",
   "id": "445ed51a",
   "metadata": {},
   "source": [
    "# Replace the values with 0's and 1's"
   ]
  },
  {
   "cell_type": "code",
   "execution_count": 83,
   "id": "875c6833",
   "metadata": {},
   "outputs": [
    {
     "data": {
      "text/plain": [
       "array(['issue_date', 'loan_status', 'term_months', 'sub_grade', 'verification_status', 'url',\n",
       "       'addr_state'], dtype='<U19')"
      ]
     },
     "execution_count": 83,
     "metadata": {},
     "output_type": "execute_result"
    }
   ],
   "source": [
    "header_strings"
   ]
  },
  {
   "cell_type": "code",
   "execution_count": 84,
   "id": "83eb0ac1",
   "metadata": {},
   "outputs": [
    {
     "data": {
      "text/plain": [
       "array(['Verified', 'Source Verified', 'Verified', ..., 'Source Verified', 'Source Verified', ''],\n",
       "      dtype='<U69')"
      ]
     },
     "execution_count": 84,
     "metadata": {},
     "output_type": "execute_result"
    }
   ],
   "source": [
    "loan_data_strings[:,4]"
   ]
  },
  {
   "cell_type": "code",
   "execution_count": 85,
   "id": "7df37f83",
   "metadata": {},
   "outputs": [
    {
     "data": {
      "text/plain": [
       "array(['', 'Not Verified', 'Source Verified', 'Verified'], dtype='<U69')"
      ]
     },
     "execution_count": 85,
     "metadata": {},
     "output_type": "execute_result"
    }
   ],
   "source": [
    "np.unique(loan_data_strings[:,4])"
   ]
  },
  {
   "cell_type": "code",
   "execution_count": 86,
   "id": "76e3282d",
   "metadata": {},
   "outputs": [],
   "source": [
    "loan_data_strings[:,4] = np.where((loan_data_strings[:,4] == '') | (loan_data_strings[:,4] == 'Not Verified'),0,1)"
   ]
  },
  {
   "cell_type": "code",
   "execution_count": 87,
   "id": "9276ed07",
   "metadata": {},
   "outputs": [
    {
     "data": {
      "text/plain": [
       "array(['1', '1', '1', ..., '1', '1', '0'], dtype='<U69')"
      ]
     },
     "execution_count": 87,
     "metadata": {},
     "output_type": "execute_result"
    }
   ],
   "source": [
    "loan_data_strings[:,4]"
   ]
  },
  {
   "cell_type": "code",
   "execution_count": 88,
   "id": "1e55e65b",
   "metadata": {},
   "outputs": [
    {
     "data": {
      "text/plain": [
       "array(['0', '1'], dtype='<U69')"
      ]
     },
     "execution_count": 88,
     "metadata": {},
     "output_type": "execute_result"
    }
   ],
   "source": [
    "np.unique(loan_data_strings[:,4])"
   ]
  },
  {
   "cell_type": "markdown",
   "id": "6aee2cae",
   "metadata": {},
   "source": [
    "# URLS"
   ]
  },
  {
   "cell_type": "code",
   "execution_count": 89,
   "id": "ee9fcbc2",
   "metadata": {},
   "outputs": [
    {
     "data": {
      "text/plain": [
       "array(['https://www.lendingclub.com/browse/loanDetail.action?loan_id=48010226',\n",
       "       'https://www.lendingclub.com/browse/loanDetail.action?loan_id=57693261',\n",
       "       'https://www.lendingclub.com/browse/loanDetail.action?loan_id=59432726', ...,\n",
       "       'https://www.lendingclub.com/browse/loanDetail.action?loan_id=50415990',\n",
       "       'https://www.lendingclub.com/browse/loanDetail.action?loan_id=46154151',\n",
       "       'https://www.lendingclub.com/browse/loanDetail.action?loan_id=66055249'], dtype='<U69')"
      ]
     },
     "execution_count": 89,
     "metadata": {},
     "output_type": "execute_result"
    }
   ],
   "source": [
    "loan_data_strings[:,5]"
   ]
  },
  {
   "cell_type": "code",
   "execution_count": 90,
   "id": "0adb1e8e",
   "metadata": {},
   "outputs": [
    {
     "data": {
      "text/plain": [
       "array(['https://www.lendingclub.com/browse/loanDetail.action?loan_id=12606806',\n",
       "       'https://www.lendingclub.com/browse/loanDetail.action?loan_id=13026045',\n",
       "       'https://www.lendingclub.com/browse/loanDetail.action?loan_id=1312426', ...,\n",
       "       'https://www.lendingclub.com/browse/loanDetail.action?loan_id=8138291',\n",
       "       'https://www.lendingclub.com/browse/loanDetail.action?loan_id=8214572',\n",
       "       'https://www.lendingclub.com/browse/loanDetail.action?loan_id=849994'], dtype='<U69')"
      ]
     },
     "execution_count": 90,
     "metadata": {},
     "output_type": "execute_result"
    }
   ],
   "source": [
    "np.unique(loan_data_strings[:,5])"
   ]
  },
  {
   "cell_type": "code",
   "execution_count": 91,
   "id": "9d55da46",
   "metadata": {},
   "outputs": [
    {
     "data": {
      "text/plain": [
       "chararray(['48010226', '57693261', '59432726', ..., '50415990', '46154151', '66055249'],\n",
       "          dtype='<U69')"
      ]
     },
     "execution_count": 91,
     "metadata": {},
     "output_type": "execute_result"
    }
   ],
   "source": [
    "np.chararray.strip(loan_data_strings[:,5],\"https://www.lendingclub.com/browse/loanDetail.action?loan_id=\")"
   ]
  },
  {
   "cell_type": "code",
   "execution_count": 92,
   "id": "c4c4f571",
   "metadata": {},
   "outputs": [],
   "source": [
    "loan_data_strings[:,5] = np.chararray.strip(loan_data_strings[:,5],\"https://www.lendingclub.com/browse/loanDetail.action?loan_id=\")"
   ]
  },
  {
   "cell_type": "code",
   "execution_count": 93,
   "id": "10c5a4b4",
   "metadata": {},
   "outputs": [
    {
     "data": {
      "text/plain": [
       "array(['48010226', '57693261', '59432726', ..., '50415990', '46154151', '66055249'], dtype='<U69')"
      ]
     },
     "execution_count": 93,
     "metadata": {},
     "output_type": "execute_result"
    }
   ],
   "source": [
    "loan_data_strings[:,5]"
   ]
  },
  {
   "cell_type": "code",
   "execution_count": 94,
   "id": "9dee941e",
   "metadata": {},
   "outputs": [
    {
     "data": {
      "text/plain": [
       "array(['id', 'issue_d', 'loan_amnt', 'loan_status', 'funded_amnt', 'term', 'int_rate',\n",
       "       'installment', 'grade', 'sub_grade', 'verification_status', 'url', 'addr_state',\n",
       "       'total_pymnt'], dtype='<U19')"
      ]
     },
     "execution_count": 94,
     "metadata": {},
     "output_type": "execute_result"
    }
   ],
   "source": [
    "header_full_strings"
   ]
  },
  {
   "cell_type": "code",
   "execution_count": 95,
   "id": "b2ccd736",
   "metadata": {},
   "outputs": [
    {
     "data": {
      "text/plain": [
       "array([48010226, 57693261, 59432726, ..., 50415990, 46154151, 66055249])"
      ]
     },
     "execution_count": 95,
     "metadata": {},
     "output_type": "execute_result"
    }
   ],
   "source": [
    "loan_data_numeric[:,0].astype(dtype=np.int32)"
   ]
  },
  {
   "cell_type": "code",
   "execution_count": 96,
   "id": "1402812b",
   "metadata": {},
   "outputs": [
    {
     "data": {
      "text/plain": [
       "array([48010226, 57693261, 59432726, ..., 50415990, 46154151, 66055249])"
      ]
     },
     "execution_count": 96,
     "metadata": {},
     "output_type": "execute_result"
    }
   ],
   "source": [
    "loan_data_strings[:,5].astype(dtype=np.int32)"
   ]
  },
  {
   "cell_type": "code",
   "execution_count": 97,
   "id": "19094053",
   "metadata": {},
   "outputs": [
    {
     "data": {
      "text/plain": [
       "True"
      ]
     },
     "execution_count": 97,
     "metadata": {},
     "output_type": "execute_result"
    }
   ],
   "source": [
    "np.array_equal(loan_data_numeric[:,0].astype(dtype=np.int32),loan_data_strings[:,5].astype(dtype=np.int32))"
   ]
  },
  {
   "cell_type": "markdown",
   "id": "95f7da6c",
   "metadata": {},
   "source": [
    "# Remove the url column as it is no more different than id column in loan_data_numeric"
   ]
  },
  {
   "cell_type": "code",
   "execution_count": 98,
   "id": "98fe6e12",
   "metadata": {},
   "outputs": [],
   "source": [
    "loan_data_strings = np.delete(loan_data_strings,5,axis = 1)"
   ]
  },
  {
   "cell_type": "code",
   "execution_count": 99,
   "id": "4e3acba4",
   "metadata": {},
   "outputs": [],
   "source": [
    "header_strings = np.delete(header_strings,5)"
   ]
  },
  {
   "cell_type": "code",
   "execution_count": 100,
   "id": "923b94de",
   "metadata": {},
   "outputs": [
    {
     "data": {
      "text/plain": [
       "array(['issue_date', 'loan_status', 'term_months', 'sub_grade', 'verification_status',\n",
       "       'addr_state'], dtype='<U19')"
      ]
     },
     "execution_count": 100,
     "metadata": {},
     "output_type": "execute_result"
    }
   ],
   "source": [
    "header_strings"
   ]
  },
  {
   "cell_type": "code",
   "execution_count": 101,
   "id": "b767b61a",
   "metadata": {},
   "outputs": [
    {
     "data": {
      "text/plain": [
       "array(['CA', 'NY', 'PA', ..., 'CA', 'OH', 'IL'], dtype='<U69')"
      ]
     },
     "execution_count": 101,
     "metadata": {},
     "output_type": "execute_result"
    }
   ],
   "source": [
    "loan_data_strings[:,5]"
   ]
  },
  {
   "cell_type": "code",
   "execution_count": 102,
   "id": "bc14bf47",
   "metadata": {},
   "outputs": [
    {
     "data": {
      "text/plain": [
       "array([48010226, 57693261, 59432726, ..., 50415990, 46154151, 66055249])"
      ]
     },
     "execution_count": 102,
     "metadata": {},
     "output_type": "execute_result"
    }
   ],
   "source": [
    "loan_data_numeric[:,0]"
   ]
  },
  {
   "cell_type": "code",
   "execution_count": 103,
   "id": "4616dfd1",
   "metadata": {},
   "outputs": [
    {
     "data": {
      "text/plain": [
       "array(['id', 'loan_amnt', 'funded_amnt', 'int_rate', 'installment', 'total_pymnt'], dtype='<U19')"
      ]
     },
     "execution_count": 103,
     "metadata": {},
     "output_type": "execute_result"
    }
   ],
   "source": [
    "header_numeric"
   ]
  },
  {
   "cell_type": "markdown",
   "id": "358221e8",
   "metadata": {},
   "source": [
    "# State Address"
   ]
  },
  {
   "cell_type": "code",
   "execution_count": 104,
   "id": "ac8a8768",
   "metadata": {},
   "outputs": [
    {
     "data": {
      "text/plain": [
       "array(['issue_date', 'loan_status', 'term_months', 'sub_grade', 'verification_status',\n",
       "       'addr_state'], dtype='<U19')"
      ]
     },
     "execution_count": 104,
     "metadata": {},
     "output_type": "execute_result"
    }
   ],
   "source": [
    "header_strings"
   ]
  },
  {
   "cell_type": "code",
   "execution_count": 105,
   "id": "c1e3816a",
   "metadata": {},
   "outputs": [
    {
     "data": {
      "text/plain": [
       "(10000, 14)"
      ]
     },
     "execution_count": 105,
     "metadata": {},
     "output_type": "execute_result"
    }
   ],
   "source": [
    "raw_data_np.shape"
   ]
  },
  {
   "cell_type": "code",
   "execution_count": 106,
   "id": "251bc9ea",
   "metadata": {},
   "outputs": [
    {
     "data": {
      "text/plain": [
       "(10000, 6)"
      ]
     },
     "execution_count": 106,
     "metadata": {},
     "output_type": "execute_result"
    }
   ],
   "source": [
    "loan_data_strings.shape"
   ]
  },
  {
   "cell_type": "code",
   "execution_count": 107,
   "id": "9ea2f73d",
   "metadata": {},
   "outputs": [],
   "source": [
    "header_strings[5] = \"state_address\""
   ]
  },
  {
   "cell_type": "code",
   "execution_count": 108,
   "id": "ff26de21",
   "metadata": {},
   "outputs": [
    {
     "data": {
      "text/plain": [
       "array(['issue_date', 'loan_status', 'term_months', 'sub_grade', 'verification_status',\n",
       "       'state_address'], dtype='<U19')"
      ]
     },
     "execution_count": 108,
     "metadata": {},
     "output_type": "execute_result"
    }
   ],
   "source": [
    "header_strings"
   ]
  },
  {
   "cell_type": "code",
   "execution_count": 109,
   "id": "9841adba",
   "metadata": {},
   "outputs": [
    {
     "data": {
      "text/plain": [
       "array(['CA', 'NY', 'PA', ..., 'CA', 'OH', 'IL'], dtype='<U69')"
      ]
     },
     "execution_count": 109,
     "metadata": {},
     "output_type": "execute_result"
    }
   ],
   "source": [
    "loan_data_strings[:,5]"
   ]
  },
  {
   "cell_type": "code",
   "execution_count": 110,
   "id": "48de48be",
   "metadata": {},
   "outputs": [
    {
     "data": {
      "text/plain": [
       "array(['', 'AK', 'AL', 'AR', 'AZ', 'CA', 'CO', 'CT', 'DC', 'DE', 'FL', 'GA', 'HI', 'IL', 'IN',\n",
       "       'KS', 'KY', 'LA', 'MA', 'MD', 'ME', 'MI', 'MN', 'MO', 'MS', 'MT', 'NC', 'ND', 'NE', 'NH',\n",
       "       'NJ', 'NM', 'NV', 'NY', 'OH', 'OK', 'OR', 'PA', 'RI', 'SC', 'SD', 'TN', 'TX', 'UT', 'VA',\n",
       "       'VT', 'WA', 'WI', 'WV', 'WY'], dtype='<U69')"
      ]
     },
     "execution_count": 110,
     "metadata": {},
     "output_type": "execute_result"
    }
   ],
   "source": [
    "np.unique(loan_data_strings[:,5])"
   ]
  },
  {
   "cell_type": "code",
   "execution_count": 111,
   "id": "321faf70",
   "metadata": {},
   "outputs": [
    {
     "data": {
      "text/plain": [
       "(array(['', 'AK', 'AL', 'AR', 'AZ', 'CA', 'CO', 'CT', 'DC', 'DE', 'FL', 'GA', 'HI', 'IL', 'IN',\n",
       "        'KS', 'KY', 'LA', 'MA', 'MD', 'ME', 'MI', 'MN', 'MO', 'MS', 'MT', 'NC', 'ND', 'NE', 'NH',\n",
       "        'NJ', 'NM', 'NV', 'NY', 'OH', 'OK', 'OR', 'PA', 'RI', 'SC', 'SD', 'TN', 'TX', 'UT', 'VA',\n",
       "        'VT', 'WA', 'WI', 'WV', 'WY'], dtype='<U69'),\n",
       " array([ 500,   26,  119,   74,  220, 1336,  201,  143,   27,   27,  690,  321,   44,  389,  152,\n",
       "          84,   84,  116,  210,  222,   10,  267,  156,  160,   61,   28,  261,   16,   25,   58,\n",
       "         341,   57,  130,  777,  312,   83,  108,  320,   40,  107,   24,  143,  758,   74,  242,\n",
       "          17,  216,  148,   49,   27], dtype=int64))"
      ]
     },
     "execution_count": 111,
     "metadata": {},
     "output_type": "execute_result"
    }
   ],
   "source": [
    "np.unique(loan_data_strings[:,5],return_counts=True)"
   ]
  },
  {
   "cell_type": "markdown",
   "id": "03cad7e3",
   "metadata": {},
   "source": [
    "# Sort the states name and count according to descending order"
   ]
  },
  {
   "cell_type": "code",
   "execution_count": 112,
   "id": "68e8ec6e",
   "metadata": {},
   "outputs": [],
   "source": [
    "states_name,states_count = np.unique(loan_data_strings[:,5],return_counts=True)"
   ]
  },
  {
   "cell_type": "code",
   "execution_count": 113,
   "id": "09a1f6ff",
   "metadata": {},
   "outputs": [],
   "source": [
    "states_count_sorted = np.argsort(-states_count)"
   ]
  },
  {
   "cell_type": "code",
   "execution_count": 114,
   "id": "544664a1",
   "metadata": {},
   "outputs": [
    {
     "data": {
      "text/plain": [
       "(array(['CA', 'NY', 'TX', 'FL', '', 'IL', 'NJ', 'GA', 'PA', 'OH', 'MI', 'NC', 'VA', 'MD', 'AZ',\n",
       "        'WA', 'MA', 'CO', 'MO', 'MN', 'IN', 'WI', 'CT', 'TN', 'NV', 'AL', 'LA', 'OR', 'SC', 'KY',\n",
       "        'KS', 'OK', 'UT', 'AR', 'MS', 'NH', 'NM', 'WV', 'HI', 'RI', 'MT', 'DE', 'DC', 'WY', 'AK',\n",
       "        'NE', 'SD', 'VT', 'ND', 'ME'], dtype='<U69'),\n",
       " array([1336,  777,  758,  690,  500,  389,  341,  321,  320,  312,  267,  261,  242,  222,  220,\n",
       "         216,  210,  201,  160,  156,  152,  148,  143,  143,  130,  119,  116,  108,  107,   84,\n",
       "          84,   83,   74,   74,   61,   58,   57,   49,   44,   40,   28,   27,   27,   27,   26,\n",
       "          25,   24,   17,   16,   10], dtype=int64))"
      ]
     },
     "execution_count": 114,
     "metadata": {},
     "output_type": "execute_result"
    }
   ],
   "source": [
    "states_name[states_count_sorted],states_count[states_count_sorted]"
   ]
  },
  {
   "cell_type": "code",
   "execution_count": 115,
   "id": "34e6f506",
   "metadata": {},
   "outputs": [],
   "source": [
    "loan_data_strings[:,5] = np.where(loan_data_strings[:,5] == '',0,loan_data_strings[:,5])"
   ]
  },
  {
   "cell_type": "code",
   "execution_count": 116,
   "id": "d30ebd98",
   "metadata": {},
   "outputs": [
    {
     "data": {
      "text/plain": [
       "array(['CA', 'NY', 'PA', ..., 'CA', 'OH', 'IL'], dtype='<U69')"
      ]
     },
     "execution_count": 116,
     "metadata": {},
     "output_type": "execute_result"
    }
   ],
   "source": [
    "loan_data_strings[:,5] "
   ]
  },
  {
   "cell_type": "code",
   "execution_count": 117,
   "id": "562f1bb4",
   "metadata": {},
   "outputs": [
    {
     "data": {
      "text/plain": [
       "array(['0', 'AK', 'AL', 'AR', 'AZ', 'CA', 'CO', 'CT', 'DC', 'DE', 'FL', 'GA', 'HI', 'IL', 'IN',\n",
       "       'KS', 'KY', 'LA', 'MA', 'MD', 'ME', 'MI', 'MN', 'MO', 'MS', 'MT', 'NC', 'ND', 'NE', 'NH',\n",
       "       'NJ', 'NM', 'NV', 'NY', 'OH', 'OK', 'OR', 'PA', 'RI', 'SC', 'SD', 'TN', 'TX', 'UT', 'VA',\n",
       "       'VT', 'WA', 'WI', 'WV', 'WY'], dtype='<U69')"
      ]
     },
     "execution_count": 117,
     "metadata": {},
     "output_type": "execute_result"
    }
   ],
   "source": [
    "np.unique(loan_data_strings[:,5])"
   ]
  },
  {
   "cell_type": "code",
   "execution_count": 118,
   "id": "461bda39",
   "metadata": {},
   "outputs": [],
   "source": [
    "states_west = np.array(['WA', 'OR','CA','NV','ID','MT', 'WY','UT','CO', 'AZ','NM','HI','AK'])\n",
    "states_south = np.array(['TX','OK','AR','LA','MS','AL','TN','KY','FL','GA','SC','NC','VA','WV','MD','DE','DC'])\n",
    "states_midwest = np.array(['ND','SD','NE','KS','MN','IA','MO','WI','IL','IN','MI','OH'])\n",
    "states_east = np.array(['PA','NY','NJ','CT','MA','VT','NH','ME','RI'])"
   ]
  },
  {
   "cell_type": "code",
   "execution_count": 119,
   "id": "8226286d",
   "metadata": {},
   "outputs": [],
   "source": [
    "loan_data_strings[:,5] = np.where(np.isin(loan_data_strings[:,5], states_west), 1, loan_data_strings[:,5])\n",
    "loan_data_strings[:,5] = np.where(np.isin(loan_data_strings[:,5], states_south), 2, loan_data_strings[:,5])\n",
    "loan_data_strings[:,5] = np.where(np.isin(loan_data_strings[:,5], states_midwest), 3, loan_data_strings[:,5])\n",
    "loan_data_strings[:,5] = np.where(np.isin(loan_data_strings[:,5], states_east), 4, loan_data_strings[:,5])"
   ]
  },
  {
   "cell_type": "code",
   "execution_count": 120,
   "id": "98854ad8",
   "metadata": {},
   "outputs": [
    {
     "data": {
      "text/plain": [
       "array(['1', '4', '4', ..., '1', '3', '3'], dtype='<U69')"
      ]
     },
     "execution_count": 120,
     "metadata": {},
     "output_type": "execute_result"
    }
   ],
   "source": [
    "loan_data_strings[:,5]"
   ]
  },
  {
   "cell_type": "code",
   "execution_count": 121,
   "id": "11a530f2",
   "metadata": {},
   "outputs": [
    {
     "data": {
      "text/plain": [
       "array(['0', '1', '2', '3', '4'], dtype='<U69')"
      ]
     },
     "execution_count": 121,
     "metadata": {},
     "output_type": "execute_result"
    }
   ],
   "source": [
    "np.unique(loan_data_strings[:,5])"
   ]
  },
  {
   "cell_type": "markdown",
   "id": "e8b7000a",
   "metadata": {},
   "source": [
    "# Converting to numbers"
   ]
  },
  {
   "cell_type": "code",
   "execution_count": 122,
   "id": "f9126afe",
   "metadata": {},
   "outputs": [
    {
     "data": {
      "text/plain": [
       "array([['5', '1', '36', '13', '1', '1'],\n",
       "       ['0', '1', '36', '5', '1', '4'],\n",
       "       ['9', '1', '36', '10', '1', '4'],\n",
       "       ...,\n",
       "       ['6', '1', '36', '5', '1', '1'],\n",
       "       ['4', '1', '36', '17', '1', '3'],\n",
       "       ['12', '1', '36', '4', '0', '3']], dtype='<U69')"
      ]
     },
     "execution_count": 122,
     "metadata": {},
     "output_type": "execute_result"
    }
   ],
   "source": [
    "loan_data_strings"
   ]
  },
  {
   "cell_type": "code",
   "execution_count": 123,
   "id": "01ffcd39",
   "metadata": {},
   "outputs": [
    {
     "name": "stderr",
     "output_type": "stream",
     "text": [
      "C:\\Users\\Aksh Mehta\\AppData\\Local\\Temp\\ipykernel_25688\\3786620335.py:1: DeprecationWarning: `np.int` is a deprecated alias for the builtin `int`. To silence this warning, use `int` by itself. Doing this will not modify any behavior and is safe. When replacing `np.int`, you may wish to use e.g. `np.int64` or `np.int32` to specify the precision. If you wish to review your current use, check the release note link for additional information.\n",
      "Deprecated in NumPy 1.20; for more details and guidance: https://numpy.org/devdocs/release/1.20.0-notes.html#deprecations\n",
      "  loan_data_strings = loan_data_strings.astype(np.int)\n"
     ]
    }
   ],
   "source": [
    "loan_data_strings = loan_data_strings.astype(np.int)"
   ]
  },
  {
   "cell_type": "code",
   "execution_count": 124,
   "id": "bb0ffac8",
   "metadata": {},
   "outputs": [
    {
     "data": {
      "text/plain": [
       "array([[ 5,  1, 36, 13,  1,  1],\n",
       "       [ 0,  1, 36,  5,  1,  4],\n",
       "       [ 9,  1, 36, 10,  1,  4],\n",
       "       ...,\n",
       "       [ 6,  1, 36,  5,  1,  1],\n",
       "       [ 4,  1, 36, 17,  1,  3],\n",
       "       [12,  1, 36,  4,  0,  3]])"
      ]
     },
     "execution_count": 124,
     "metadata": {},
     "output_type": "execute_result"
    }
   ],
   "source": [
    "loan_data_strings"
   ]
  },
  {
   "cell_type": "markdown",
   "id": "e571423c",
   "metadata": {},
   "source": [
    "# Checkpoint1 : Strings"
   ]
  },
  {
   "cell_type": "code",
   "execution_count": 125,
   "id": "fab9c5a4",
   "metadata": {},
   "outputs": [],
   "source": [
    "checkpoint_strings = checkpoint(\"Checkpoint-Strings\",header_strings,loan_data_strings)"
   ]
  },
  {
   "cell_type": "code",
   "execution_count": 126,
   "id": "f857112e",
   "metadata": {},
   "outputs": [
    {
     "data": {
      "text/plain": [
       "array(['issue_date', 'loan_status', 'term_months', 'sub_grade', 'verification_status',\n",
       "       'state_address'], dtype='<U19')"
      ]
     },
     "execution_count": 126,
     "metadata": {},
     "output_type": "execute_result"
    }
   ],
   "source": [
    "checkpoint_strings[\"header\"]"
   ]
  },
  {
   "cell_type": "code",
   "execution_count": 127,
   "id": "2308722e",
   "metadata": {},
   "outputs": [
    {
     "data": {
      "text/plain": [
       "array([[ 5,  1, 36, 13,  1,  1],\n",
       "       [ 0,  1, 36,  5,  1,  4],\n",
       "       [ 9,  1, 36, 10,  1,  4],\n",
       "       ...,\n",
       "       [ 6,  1, 36,  5,  1,  1],\n",
       "       [ 4,  1, 36, 17,  1,  3],\n",
       "       [12,  1, 36,  4,  0,  3]])"
      ]
     },
     "execution_count": 127,
     "metadata": {},
     "output_type": "execute_result"
    }
   ],
   "source": [
    "checkpoint_strings[\"data\"]"
   ]
  },
  {
   "cell_type": "code",
   "execution_count": 128,
   "id": "3a70f8cb",
   "metadata": {},
   "outputs": [
    {
     "data": {
      "text/plain": [
       "True"
      ]
     },
     "execution_count": 128,
     "metadata": {},
     "output_type": "execute_result"
    }
   ],
   "source": [
    "np.array_equal(checkpoint_strings[\"data\"],loan_data_strings)"
   ]
  },
  {
   "cell_type": "code",
   "execution_count": 129,
   "id": "76d63398",
   "metadata": {},
   "outputs": [
    {
     "data": {
      "text/plain": [
       "True"
      ]
     },
     "execution_count": 129,
     "metadata": {},
     "output_type": "execute_result"
    }
   ],
   "source": [
    "np.array_equal(checkpoint_strings[\"header\"],header_strings)"
   ]
  },
  {
   "cell_type": "markdown",
   "id": "786a4499",
   "metadata": {},
   "source": [
    "# Manipulating numeric columns"
   ]
  },
  {
   "cell_type": "code",
   "execution_count": 130,
   "id": "bb24e633",
   "metadata": {},
   "outputs": [
    {
     "data": {
      "text/plain": [
       "array([[48010226,    35000,    35000,       13,     1184,     9452],\n",
       "       [57693261,    30000,    30000, 68616520,      938,     4679],\n",
       "       [59432726,    15000,    15000, 68616520,      494,     1969],\n",
       "       ...,\n",
       "       [50415990,    10000,    10000, 68616520, 68616520,     2185],\n",
       "       [46154151, 68616520,    10000,       16,      354,     3199],\n",
       "       [66055249,    10000,    10000, 68616520,      309,      301]])"
      ]
     },
     "execution_count": 130,
     "metadata": {},
     "output_type": "execute_result"
    }
   ],
   "source": [
    "loan_data_numeric"
   ]
  },
  {
   "cell_type": "code",
   "execution_count": 131,
   "id": "8042bb8c",
   "metadata": {},
   "outputs": [
    {
     "data": {
      "text/plain": [
       "0"
      ]
     },
     "execution_count": 131,
     "metadata": {},
     "output_type": "execute_result"
    }
   ],
   "source": [
    "np.isnan(loan_data_numeric).sum()"
   ]
  },
  {
   "cell_type": "markdown",
   "id": "24d9048b",
   "metadata": {},
   "source": [
    "# Substitute filler values"
   ]
  },
  {
   "cell_type": "code",
   "execution_count": 132,
   "id": "d469e185",
   "metadata": {},
   "outputs": [
    {
     "data": {
      "text/plain": [
       "array(['id', 'loan_amnt', 'funded_amnt', 'int_rate', 'installment', 'total_pymnt'], dtype='<U19')"
      ]
     },
     "execution_count": 132,
     "metadata": {},
     "output_type": "execute_result"
    }
   ],
   "source": [
    "header_numeric"
   ]
  },
  {
   "cell_type": "markdown",
   "id": "3cf64a5a",
   "metadata": {},
   "source": [
    "# ID(By chceking whether the no of temporary_fill values we get to know the total no of nan values)"
   ]
  },
  {
   "cell_type": "code",
   "execution_count": 133,
   "id": "49d20e84",
   "metadata": {},
   "outputs": [
    {
     "data": {
      "text/plain": [
       "68616520.0"
      ]
     },
     "execution_count": 133,
     "metadata": {},
     "output_type": "execute_result"
    }
   ],
   "source": [
    "temporary_fill"
   ]
  },
  {
   "cell_type": "code",
   "execution_count": 134,
   "id": "120368ac",
   "metadata": {},
   "outputs": [
    {
     "data": {
      "text/plain": [
       "array([False, False, False, ..., False, False, False])"
      ]
     },
     "execution_count": 134,
     "metadata": {},
     "output_type": "execute_result"
    }
   ],
   "source": [
    "np.isin(loan_data_numeric[:,0],temporary_fill)"
   ]
  },
  {
   "cell_type": "code",
   "execution_count": 135,
   "id": "d1673daf",
   "metadata": {},
   "outputs": [
    {
     "data": {
      "text/plain": [
       "0"
      ]
     },
     "execution_count": 135,
     "metadata": {},
     "output_type": "execute_result"
    }
   ],
   "source": [
    "np.isin(loan_data_numeric[:,0],temporary_fill).sum()"
   ]
  },
  {
   "cell_type": "code",
   "execution_count": 136,
   "id": "a746d451",
   "metadata": {},
   "outputs": [
    {
     "data": {
      "text/plain": [
       "array(['id', 'loan_amnt', 'funded_amnt', 'int_rate', 'installment', 'total_pymnt'], dtype='<U19')"
      ]
     },
     "execution_count": 136,
     "metadata": {},
     "output_type": "execute_result"
    }
   ],
   "source": [
    "header_numeric"
   ]
  },
  {
   "cell_type": "markdown",
   "id": "416aa45e",
   "metadata": {},
   "source": [
    "# Temporary_stats"
   ]
  },
  {
   "cell_type": "code",
   "execution_count": 137,
   "id": "417d05b4",
   "metadata": {},
   "outputs": [
    {
     "data": {
      "text/plain": [
       "array([[  373332.  ,         nan,     1000.  ,         nan,     1000.  ,         nan,        6.  ,\n",
       "              31.42,         nan,         nan,         nan,         nan,         nan,        0.  ],\n",
       "       [54015809.19,         nan,    15273.46,         nan,    15311.04,         nan,       16.62,\n",
       "             440.92,         nan,         nan,         nan,         nan,         nan,     3143.85],\n",
       "       [68616519.  ,         nan,    35000.  ,         nan,    35000.  ,         nan,       28.99,\n",
       "            1372.97,         nan,         nan,         nan,         nan,         nan,    41913.62]])"
      ]
     },
     "execution_count": 137,
     "metadata": {},
     "output_type": "execute_result"
    }
   ],
   "source": [
    "temporary_stats "
   ]
  },
  {
   "cell_type": "code",
   "execution_count": 138,
   "id": "ae6b07e9",
   "metadata": {},
   "outputs": [
    {
     "data": {
      "text/plain": [
       "array([[  373332.  ,     1000.  ,     1000.  ,        6.  ,       31.42,        0.  ],\n",
       "       [54015809.19,    15273.46,    15311.04,       16.62,      440.92,     3143.85],\n",
       "       [68616519.  ,    35000.  ,    35000.  ,       28.99,     1372.97,    41913.62]])"
      ]
     },
     "execution_count": 138,
     "metadata": {},
     "output_type": "execute_result"
    }
   ],
   "source": [
    "temporary_stats[:,column_integers]"
   ]
  },
  {
   "cell_type": "markdown",
   "id": "6f7d0d20",
   "metadata": {},
   "source": [
    "# Funded amount(The temporary fill values are replaced with the min values)"
   ]
  },
  {
   "cell_type": "code",
   "execution_count": 139,
   "id": "cda25158",
   "metadata": {},
   "outputs": [
    {
     "data": {
      "text/plain": [
       "array([35000, 30000, 15000, ..., 10000, 10000, 10000])"
      ]
     },
     "execution_count": 139,
     "metadata": {},
     "output_type": "execute_result"
    }
   ],
   "source": [
    "loan_data_numeric[:,2]"
   ]
  },
  {
   "cell_type": "code",
   "execution_count": 140,
   "id": "3fcb5c72",
   "metadata": {},
   "outputs": [],
   "source": [
    "loan_data_numeric[:,2] = np.where(loan_data_numeric[:,2] == temporary_fill,\n",
    "                                  temporary_stats[0,column_integers[2]],\n",
    "                                  loan_data_numeric[:,2])"
   ]
  },
  {
   "cell_type": "code",
   "execution_count": 141,
   "id": "435bdd95",
   "metadata": {},
   "outputs": [
    {
     "data": {
      "text/plain": [
       "array([[48010226,    35000,    35000,       13,     1184,     9452],\n",
       "       [57693261,    30000,    30000, 68616520,      938,     4679],\n",
       "       [59432726,    15000,    15000, 68616520,      494,     1969],\n",
       "       ...,\n",
       "       [50415990,    10000,    10000, 68616520, 68616520,     2185],\n",
       "       [46154151, 68616520,    10000,       16,      354,     3199],\n",
       "       [66055249,    10000,    10000, 68616520,      309,      301]])"
      ]
     },
     "execution_count": 141,
     "metadata": {},
     "output_type": "execute_result"
    }
   ],
   "source": [
    "loan_data_numeric"
   ]
  },
  {
   "cell_type": "code",
   "execution_count": 142,
   "id": "c9b01f08",
   "metadata": {},
   "outputs": [
    {
     "data": {
      "text/plain": [
       "array(['id', 'loan_amnt', 'funded_amnt', 'int_rate', 'installment', 'total_pymnt'], dtype='<U19')"
      ]
     },
     "execution_count": 142,
     "metadata": {},
     "output_type": "execute_result"
    }
   ],
   "source": [
    "header_numeric"
   ]
  },
  {
   "cell_type": "markdown",
   "id": "2933fbec",
   "metadata": {},
   "source": [
    "# loan_amnt, int_rate, installment, total_pymnt(replace the temp_fill in this case with temporary_max values)"
   ]
  },
  {
   "cell_type": "code",
   "execution_count": 143,
   "id": "771047ea",
   "metadata": {},
   "outputs": [
    {
     "data": {
      "text/plain": [
       "array(['id', 'loan_amnt', 'funded_amnt', 'int_rate', 'installment', 'total_pymnt'], dtype='<U19')"
      ]
     },
     "execution_count": 143,
     "metadata": {},
     "output_type": "execute_result"
    }
   ],
   "source": [
    "header_numeric"
   ]
  },
  {
   "cell_type": "code",
   "execution_count": 144,
   "id": "4e3aeab2",
   "metadata": {},
   "outputs": [],
   "source": [
    "for i in [1,3,4,5]:\n",
    "    loan_data_numeric[:,i] = np.where(loan_data_numeric[:,i] == temporary_fill,\n",
    "                                      temporary_stats[2,column_integers[i]],\n",
    "                                      loan_data_numeric[:,i])"
   ]
  },
  {
   "cell_type": "code",
   "execution_count": 145,
   "id": "ee728807",
   "metadata": {},
   "outputs": [
    {
     "data": {
      "text/plain": [
       "array([9452, 4679, 1969, ..., 2185, 3199,  301])"
      ]
     },
     "execution_count": 145,
     "metadata": {},
     "output_type": "execute_result"
    }
   ],
   "source": [
    "loan_data_numeric[:,i]"
   ]
  },
  {
   "cell_type": "code",
   "execution_count": 146,
   "id": "cb8211e8",
   "metadata": {},
   "outputs": [
    {
     "data": {
      "text/plain": [
       "array([[48010226,    35000,    35000,       13,     1184,     9452],\n",
       "       [57693261,    30000,    30000,       28,      938,     4679],\n",
       "       [59432726,    15000,    15000,       28,      494,     1969],\n",
       "       ...,\n",
       "       [50415990,    10000,    10000,       28,     1372,     2185],\n",
       "       [46154151,    35000,    10000,       16,      354,     3199],\n",
       "       [66055249,    10000,    10000,       28,      309,      301]])"
      ]
     },
     "execution_count": 146,
     "metadata": {},
     "output_type": "execute_result"
    }
   ],
   "source": [
    "loan_data_numeric"
   ]
  },
  {
   "cell_type": "markdown",
   "id": "181aed34",
   "metadata": {},
   "source": [
    "# Convert Dollar Amounts to Euros"
   ]
  },
  {
   "cell_type": "markdown",
   "id": "30e84555",
   "metadata": {},
   "source": [
    "# The Exchange Rates"
   ]
  },
  {
   "cell_type": "code",
   "execution_count": 147,
   "id": "47926871",
   "metadata": {},
   "outputs": [],
   "source": [
    "EUR_USD = np.genfromtxt(\"EUR-USD.csv\",delimiter=\",\",autostrip=True,skip_header = 1,usecols=3)"
   ]
  },
  {
   "cell_type": "code",
   "execution_count": 148,
   "id": "e2d7d1f1",
   "metadata": {},
   "outputs": [
    {
     "data": {
      "text/plain": [
       "array([1.13, 1.12, 1.08, 1.11, 1.1 , 1.12, 1.09, 1.13, 1.13, 1.1 , 1.06, 1.09])"
      ]
     },
     "execution_count": 148,
     "metadata": {},
     "output_type": "execute_result"
    }
   ],
   "source": [
    "EUR_USD"
   ]
  },
  {
   "cell_type": "code",
   "execution_count": 149,
   "id": "7e5032c8",
   "metadata": {},
   "outputs": [
    {
     "data": {
      "text/plain": [
       "array(['issue_date', 'loan_status', 'term_months', 'sub_grade', 'verification_status',\n",
       "       'state_address'], dtype='<U19')"
      ]
     },
     "execution_count": 149,
     "metadata": {},
     "output_type": "execute_result"
    }
   ],
   "source": [
    "header_strings"
   ]
  },
  {
   "cell_type": "code",
   "execution_count": 150,
   "id": "dc874bba",
   "metadata": {},
   "outputs": [
    {
     "data": {
      "text/plain": [
       "array([[ 5,  1, 36, 13,  1,  1],\n",
       "       [ 0,  1, 36,  5,  1,  4],\n",
       "       [ 9,  1, 36, 10,  1,  4],\n",
       "       ...,\n",
       "       [ 6,  1, 36,  5,  1,  1],\n",
       "       [ 4,  1, 36, 17,  1,  3],\n",
       "       [12,  1, 36,  4,  0,  3]])"
      ]
     },
     "execution_count": 150,
     "metadata": {},
     "output_type": "execute_result"
    }
   ],
   "source": [
    "loan_data_strings"
   ]
  },
  {
   "cell_type": "code",
   "execution_count": 151,
   "id": "aa5fc029",
   "metadata": {},
   "outputs": [
    {
     "data": {
      "text/plain": [
       "array([ 5,  0,  9, ...,  6,  4, 12])"
      ]
     },
     "execution_count": 151,
     "metadata": {},
     "output_type": "execute_result"
    }
   ],
   "source": [
    "loan_data_strings[:,0]"
   ]
  },
  {
   "cell_type": "code",
   "execution_count": 152,
   "id": "a1f3a6c6",
   "metadata": {},
   "outputs": [],
   "source": [
    "exchange_rate = loan_data_strings[:,0]"
   ]
  },
  {
   "cell_type": "code",
   "execution_count": 153,
   "id": "eed15625",
   "metadata": {},
   "outputs": [],
   "source": [
    "for i in range(1,13):\n",
    "    exchange_rate = np.where(exchange_rate == i,\n",
    "                             EUR_USD[i-1],\n",
    "                             exchange_rate)\n",
    "exchange_rate = np.where(exchange_rate == 0,\n",
    "                         np.mean(EUR_USD),\n",
    "                         exchange_rate)"
   ]
  },
  {
   "cell_type": "code",
   "execution_count": 154,
   "id": "299d2c9f",
   "metadata": {},
   "outputs": [
    {
     "data": {
      "text/plain": [
       "array([1.1 , 1.11, 1.13, ..., 1.12, 1.11, 1.09])"
      ]
     },
     "execution_count": 154,
     "metadata": {},
     "output_type": "execute_result"
    }
   ],
   "source": [
    "exchange_rate"
   ]
  },
  {
   "cell_type": "code",
   "execution_count": 155,
   "id": "638d0bf0",
   "metadata": {},
   "outputs": [
    {
     "data": {
      "text/plain": [
       "(10000,)"
      ]
     },
     "execution_count": 155,
     "metadata": {},
     "output_type": "execute_result"
    }
   ],
   "source": [
    "exchange_rate.shape"
   ]
  },
  {
   "cell_type": "code",
   "execution_count": 156,
   "id": "98d36f3f",
   "metadata": {},
   "outputs": [
    {
     "data": {
      "text/plain": [
       "(10000, 6)"
      ]
     },
     "execution_count": 156,
     "metadata": {},
     "output_type": "execute_result"
    }
   ],
   "source": [
    "loan_data_numeric.shape"
   ]
  },
  {
   "cell_type": "code",
   "execution_count": 157,
   "id": "1a80c3a7",
   "metadata": {},
   "outputs": [
    {
     "data": {
      "text/plain": [
       "array([[1.1 ],\n",
       "       [1.11],\n",
       "       [1.13],\n",
       "       ...,\n",
       "       [1.12],\n",
       "       [1.11],\n",
       "       [1.09]])"
      ]
     },
     "execution_count": 157,
     "metadata": {},
     "output_type": "execute_result"
    }
   ],
   "source": [
    "exchange_rate = np.reshape(exchange_rate,(10000,1))\n",
    "exchange_rate"
   ]
  },
  {
   "cell_type": "code",
   "execution_count": 158,
   "id": "ff264570",
   "metadata": {},
   "outputs": [
    {
     "data": {
      "text/plain": [
       "array([[48010226,    35000,    35000,       13,     1184,     9452],\n",
       "       [57693261,    30000,    30000,       28,      938,     4679],\n",
       "       [59432726,    15000,    15000,       28,      494,     1969],\n",
       "       ...,\n",
       "       [50415990,    10000,    10000,       28,     1372,     2185],\n",
       "       [46154151,    35000,    10000,       16,      354,     3199],\n",
       "       [66055249,    10000,    10000,       28,      309,      301]])"
      ]
     },
     "execution_count": 158,
     "metadata": {},
     "output_type": "execute_result"
    }
   ],
   "source": [
    "loan_data_numeric"
   ]
  },
  {
   "cell_type": "markdown",
   "id": "061b0051",
   "metadata": {},
   "source": [
    "# Add last column of exchange_rate to loan_data_numeric"
   ]
  },
  {
   "cell_type": "code",
   "execution_count": 159,
   "id": "e7aff9dc",
   "metadata": {},
   "outputs": [],
   "source": [
    "loan_data_numeric = np.hstack((loan_data_numeric,exchange_rate))"
   ]
  },
  {
   "cell_type": "code",
   "execution_count": 160,
   "id": "dbdb6b20",
   "metadata": {},
   "outputs": [
    {
     "data": {
      "text/plain": [
       "array([[48010226.  ,    35000.  ,    35000.  , ...,     1184.  ,     9452.  ,        1.1 ],\n",
       "       [57693261.  ,    30000.  ,    30000.  , ...,      938.  ,     4679.  ,        1.11],\n",
       "       [59432726.  ,    15000.  ,    15000.  , ...,      494.  ,     1969.  ,        1.13],\n",
       "       ...,\n",
       "       [50415990.  ,    10000.  ,    10000.  , ...,     1372.  ,     2185.  ,        1.12],\n",
       "       [46154151.  ,    35000.  ,    10000.  , ...,      354.  ,     3199.  ,        1.11],\n",
       "       [66055249.  ,    10000.  ,    10000.  , ...,      309.  ,      301.  ,        1.09]])"
      ]
     },
     "execution_count": 160,
     "metadata": {},
     "output_type": "execute_result"
    }
   ],
   "source": [
    "loan_data_numeric"
   ]
  },
  {
   "cell_type": "markdown",
   "id": "c1a87644",
   "metadata": {},
   "source": [
    "# Add exchange rate column to header"
   ]
  },
  {
   "cell_type": "code",
   "execution_count": 161,
   "id": "3b8bcbb5",
   "metadata": {},
   "outputs": [],
   "source": [
    "header_numeric = np.concatenate((header_numeric,np.array(['exchange_rate'])))"
   ]
  },
  {
   "cell_type": "code",
   "execution_count": 162,
   "id": "7fc3047c",
   "metadata": {},
   "outputs": [
    {
     "data": {
      "text/plain": [
       "array(['id', 'loan_amnt', 'funded_amnt', 'int_rate', 'installment', 'total_pymnt', 'exchange_rate'],\n",
       "      dtype='<U19')"
      ]
     },
     "execution_count": 162,
     "metadata": {},
     "output_type": "execute_result"
    }
   ],
   "source": [
    "header_numeric"
   ]
  },
  {
   "cell_type": "markdown",
   "id": "74cabab7",
   "metadata": {},
   "source": [
    "# From USD to EUR"
   ]
  },
  {
   "cell_type": "code",
   "execution_count": 163,
   "id": "4820e0b9",
   "metadata": {},
   "outputs": [
    {
     "data": {
      "text/plain": [
       "array(['id', 'loan_amnt', 'funded_amnt', 'int_rate', 'installment', 'total_pymnt', 'exchange_rate'],\n",
       "      dtype='<U19')"
      ]
     },
     "execution_count": 163,
     "metadata": {},
     "output_type": "execute_result"
    }
   ],
   "source": [
    "header_numeric"
   ]
  },
  {
   "cell_type": "code",
   "execution_count": 164,
   "id": "6842d892",
   "metadata": {},
   "outputs": [],
   "source": [
    "column_dollar = np.array([1,2,4,5])"
   ]
  },
  {
   "cell_type": "code",
   "execution_count": 165,
   "id": "b15d5c5e",
   "metadata": {},
   "outputs": [
    {
     "data": {
      "text/plain": [
       "array([1, 2, 4, 5])"
      ]
     },
     "execution_count": 165,
     "metadata": {},
     "output_type": "execute_result"
    }
   ],
   "source": [
    "column_dollar"
   ]
  },
  {
   "cell_type": "code",
   "execution_count": 166,
   "id": "2119ab06",
   "metadata": {},
   "outputs": [
    {
     "data": {
      "text/plain": [
       "array([[[35000., 35000.,  1184.,  9452.]],\n",
       "\n",
       "       [[30000., 30000.,   938.,  4679.]],\n",
       "\n",
       "       [[15000., 15000.,   494.,  1969.]],\n",
       "\n",
       "       ...,\n",
       "\n",
       "       [[10000., 10000.,  1372.,  2185.]],\n",
       "\n",
       "       [[35000., 10000.,   354.,  3199.]],\n",
       "\n",
       "       [[10000., 10000.,   309.,   301.]]])"
      ]
     },
     "execution_count": 166,
     "metadata": {},
     "output_type": "execute_result"
    }
   ],
   "source": [
    "loan_data_numeric[:,[column_dollar]]"
   ]
  },
  {
   "cell_type": "code",
   "execution_count": 167,
   "id": "718b248f",
   "metadata": {},
   "outputs": [
    {
     "data": {
      "text/plain": [
       "array([1.1 , 1.11, 1.13, ..., 1.12, 1.11, 1.09])"
      ]
     },
     "execution_count": 167,
     "metadata": {},
     "output_type": "execute_result"
    }
   ],
   "source": [
    "loan_data_numeric[:,6]"
   ]
  },
  {
   "cell_type": "code",
   "execution_count": 168,
   "id": "a1f04238",
   "metadata": {},
   "outputs": [],
   "source": [
    "for i in column_dollar:\n",
    "    loan_data_numeric = np.hstack((loan_data_numeric,np.reshape(loan_data_numeric[:,i]/loan_data_numeric[:,6],(10000,1))))"
   ]
  },
  {
   "cell_type": "code",
   "execution_count": 169,
   "id": "ffcb1865",
   "metadata": {},
   "outputs": [
    {
     "data": {
      "text/plain": [
       "array([[48010226.  ,    35000.  ,    35000.  , ...,    31933.3 ,     1080.26,     8623.82],\n",
       "       [57693261.  ,    30000.  ,    30000.  , ...,    27132.46,      848.34,     4231.76],\n",
       "       [59432726.  ,    15000.  ,    15000.  , ...,    13326.3 ,      438.88,     1749.3 ],\n",
       "       ...,\n",
       "       [50415990.  ,    10000.  ,    10000.  , ...,     8910.3 ,     1222.49,     1946.9 ],\n",
       "       [46154151.  ,    35000.  ,    10000.  , ...,     8997.4 ,      318.51,     2878.27],\n",
       "       [66055249.  ,    10000.  ,    10000.  , ...,     9145.8 ,      282.61,      275.29]])"
      ]
     },
     "execution_count": 169,
     "metadata": {},
     "output_type": "execute_result"
    }
   ],
   "source": [
    "loan_data_numeric"
   ]
  },
  {
   "cell_type": "code",
   "execution_count": 170,
   "id": "896a0235",
   "metadata": {},
   "outputs": [
    {
     "data": {
      "text/plain": [
       "(10000, 11)"
      ]
     },
     "execution_count": 170,
     "metadata": {},
     "output_type": "execute_result"
    }
   ],
   "source": [
    "loan_data_numeric.shape"
   ]
  },
  {
   "cell_type": "code",
   "execution_count": 171,
   "id": "f1ec6da5",
   "metadata": {},
   "outputs": [
    {
     "data": {
      "text/plain": [
       "array([[48010226.  ,    35000.  ,    35000.  , ...,    31933.3 ,     1080.26,     8623.82],\n",
       "       [57693261.  ,    30000.  ,    30000.  , ...,    27132.46,      848.34,     4231.76],\n",
       "       [59432726.  ,    15000.  ,    15000.  , ...,    13326.3 ,      438.88,     1749.3 ],\n",
       "       ...,\n",
       "       [50415990.  ,    10000.  ,    10000.  , ...,     8910.3 ,     1222.49,     1946.9 ],\n",
       "       [46154151.  ,    35000.  ,    10000.  , ...,     8997.4 ,      318.51,     2878.27],\n",
       "       [66055249.  ,    10000.  ,    10000.  , ...,     9145.8 ,      282.61,      275.29]])"
      ]
     },
     "execution_count": 171,
     "metadata": {},
     "output_type": "execute_result"
    }
   ],
   "source": [
    "loan_data_numeric"
   ]
  },
  {
   "cell_type": "code",
   "execution_count": 172,
   "id": "8596cbee",
   "metadata": {},
   "outputs": [],
   "source": [
    "header_additional = np.array([column_name + '_EUR' for column_name in header_numeric[column_dollar]])"
   ]
  },
  {
   "cell_type": "code",
   "execution_count": 173,
   "id": "c615f9bc",
   "metadata": {},
   "outputs": [
    {
     "data": {
      "text/plain": [
       "array(['loan_amnt_EUR', 'funded_amnt_EUR', 'installment_EUR', 'total_pymnt_EUR'], dtype='<U15')"
      ]
     },
     "execution_count": 173,
     "metadata": {},
     "output_type": "execute_result"
    }
   ],
   "source": [
    "header_additional"
   ]
  },
  {
   "cell_type": "code",
   "execution_count": 174,
   "id": "804341c6",
   "metadata": {},
   "outputs": [],
   "source": [
    "header_numeric = np.concatenate((header_numeric,header_additional))"
   ]
  },
  {
   "cell_type": "code",
   "execution_count": 175,
   "id": "761711e6",
   "metadata": {},
   "outputs": [
    {
     "data": {
      "text/plain": [
       "array(['id', 'loan_amnt', 'funded_amnt', 'int_rate', 'installment', 'total_pymnt', 'exchange_rate',\n",
       "       'loan_amnt_EUR', 'funded_amnt_EUR', 'installment_EUR', 'total_pymnt_EUR'], dtype='<U19')"
      ]
     },
     "execution_count": 175,
     "metadata": {},
     "output_type": "execute_result"
    }
   ],
   "source": [
    "header_numeric"
   ]
  },
  {
   "cell_type": "code",
   "execution_count": 176,
   "id": "3bf028b3",
   "metadata": {},
   "outputs": [],
   "source": [
    "header_numeric[column_dollar] = np.array([column_name + '_USD' for column_name in header_numeric[column_dollar]])"
   ]
  },
  {
   "cell_type": "code",
   "execution_count": 177,
   "id": "7530777a",
   "metadata": {},
   "outputs": [
    {
     "data": {
      "text/plain": [
       "array(['id', 'loan_amnt_USD', 'funded_amnt_USD', 'int_rate', 'installment_USD', 'total_pymnt_USD',\n",
       "       'exchange_rate', 'loan_amnt_EUR', 'funded_amnt_EUR', 'installment_EUR', 'total_pymnt_EUR'],\n",
       "      dtype='<U19')"
      ]
     },
     "execution_count": 177,
     "metadata": {},
     "output_type": "execute_result"
    }
   ],
   "source": [
    "header_numeric"
   ]
  },
  {
   "cell_type": "code",
   "execution_count": 178,
   "id": "ef04cc4b",
   "metadata": {},
   "outputs": [],
   "source": [
    "column_index_order = [0,1,7,2,8,3,4,9,5,10,6]"
   ]
  },
  {
   "cell_type": "code",
   "execution_count": 181,
   "id": "fbc2bce3",
   "metadata": {},
   "outputs": [],
   "source": [
    "header_numeric = header_numeric[column_index_order]"
   ]
  },
  {
   "cell_type": "code",
   "execution_count": 182,
   "id": "540ad77b",
   "metadata": {},
   "outputs": [
    {
     "data": {
      "text/plain": [
       "array(['id', 'loan_amnt_USD', 'loan_amnt_EUR', 'funded_amnt_USD', 'funded_amnt_EUR', 'int_rate',\n",
       "       'installment_USD', 'installment_EUR', 'total_pymnt_USD', 'total_pymnt_EUR', 'exchange_rate'],\n",
       "      dtype='<U19')"
      ]
     },
     "execution_count": 182,
     "metadata": {},
     "output_type": "execute_result"
    }
   ],
   "source": [
    "header_numeric"
   ]
  },
  {
   "cell_type": "code",
   "execution_count": 183,
   "id": "d26764a2",
   "metadata": {},
   "outputs": [
    {
     "data": {
      "text/plain": [
       "array([[48010226.  ,    35000.  ,    35000.  , ...,    31933.3 ,     1080.26,     8623.82],\n",
       "       [57693261.  ,    30000.  ,    30000.  , ...,    27132.46,      848.34,     4231.76],\n",
       "       [59432726.  ,    15000.  ,    15000.  , ...,    13326.3 ,      438.88,     1749.3 ],\n",
       "       ...,\n",
       "       [50415990.  ,    10000.  ,    10000.  , ...,     8910.3 ,     1222.49,     1946.9 ],\n",
       "       [46154151.  ,    35000.  ,    10000.  , ...,     8997.4 ,      318.51,     2878.27],\n",
       "       [66055249.  ,    10000.  ,    10000.  , ...,     9145.8 ,      282.61,      275.29]])"
      ]
     },
     "execution_count": 183,
     "metadata": {},
     "output_type": "execute_result"
    }
   ],
   "source": [
    "loan_data_numeric"
   ]
  },
  {
   "cell_type": "code",
   "execution_count": 184,
   "id": "8c22e714",
   "metadata": {},
   "outputs": [],
   "source": [
    "loan_data_numeric = loan_data_numeric[:,column_index_order]"
   ]
  },
  {
   "cell_type": "code",
   "execution_count": 185,
   "id": "0cc2284c",
   "metadata": {},
   "outputs": [
    {
     "data": {
      "text/plain": [
       "array([[48010226.  ,    35000.  ,    31933.3 , ...,     9452.  ,     8623.82,        1.1 ],\n",
       "       [57693261.  ,    30000.  ,    27132.46, ...,     4679.  ,     4231.76,        1.11],\n",
       "       [59432726.  ,    15000.  ,    13326.3 , ...,     1969.  ,     1749.3 ,        1.13],\n",
       "       ...,\n",
       "       [50415990.  ,    10000.  ,     8910.3 , ...,     2185.  ,     1946.9 ,        1.12],\n",
       "       [46154151.  ,    35000.  ,    31490.9 , ...,     3199.  ,     2878.27,        1.11],\n",
       "       [66055249.  ,    10000.  ,     9145.8 , ...,      301.  ,      275.29,        1.09]])"
      ]
     },
     "execution_count": 185,
     "metadata": {},
     "output_type": "execute_result"
    }
   ],
   "source": [
    "loan_data_numeric"
   ]
  },
  {
   "cell_type": "markdown",
   "id": "90ef4f52",
   "metadata": {},
   "source": [
    "# Interest Rate"
   ]
  },
  {
   "cell_type": "code",
   "execution_count": 186,
   "id": "aa59984c",
   "metadata": {},
   "outputs": [
    {
     "data": {
      "text/plain": [
       "array(['id', 'loan_amnt_USD', 'loan_amnt_EUR', 'funded_amnt_USD', 'funded_amnt_EUR', 'int_rate',\n",
       "       'installment_USD', 'installment_EUR', 'total_pymnt_USD', 'total_pymnt_EUR', 'exchange_rate'],\n",
       "      dtype='<U19')"
      ]
     },
     "execution_count": 186,
     "metadata": {},
     "output_type": "execute_result"
    }
   ],
   "source": [
    "header_numeric"
   ]
  },
  {
   "cell_type": "code",
   "execution_count": 187,
   "id": "9e1bf09f",
   "metadata": {},
   "outputs": [
    {
     "data": {
      "text/plain": [
       "array([13., 28., 28., ..., 28., 16., 28.])"
      ]
     },
     "execution_count": 187,
     "metadata": {},
     "output_type": "execute_result"
    }
   ],
   "source": [
    "loan_data_numeric[:,5]"
   ]
  },
  {
   "cell_type": "code",
   "execution_count": 190,
   "id": "028c6296",
   "metadata": {},
   "outputs": [],
   "source": [
    "loan_data_numeric[:,5] = loan_data_numeric[:,5]/100"
   ]
  },
  {
   "cell_type": "code",
   "execution_count": 191,
   "id": "66ee7fd4",
   "metadata": {},
   "outputs": [
    {
     "data": {
      "text/plain": [
       "array([0.13, 0.28, 0.28, ..., 0.28, 0.16, 0.28])"
      ]
     },
     "execution_count": 191,
     "metadata": {},
     "output_type": "execute_result"
    }
   ],
   "source": [
    "loan_data_numeric[:,5]"
   ]
  },
  {
   "cell_type": "markdown",
   "id": "456213d7",
   "metadata": {},
   "source": [
    "# Checkpoint 2 : Numeric"
   ]
  },
  {
   "cell_type": "code",
   "execution_count": 192,
   "id": "15aaafa6",
   "metadata": {},
   "outputs": [],
   "source": [
    "checkpoint_numeric = checkpoint(\"Checkpoint Numeric\",header_numeric,loan_data_numeric)"
   ]
  },
  {
   "cell_type": "code",
   "execution_count": 194,
   "id": "3f980e39",
   "metadata": {},
   "outputs": [
    {
     "data": {
      "text/plain": [
       "array(['id', 'loan_amnt_USD', 'loan_amnt_EUR', 'funded_amnt_USD', 'funded_amnt_EUR', 'int_rate',\n",
       "       'installment_USD', 'installment_EUR', 'total_pymnt_USD', 'total_pymnt_EUR', 'exchange_rate'],\n",
       "      dtype='<U19')"
      ]
     },
     "execution_count": 194,
     "metadata": {},
     "output_type": "execute_result"
    }
   ],
   "source": [
    "checkpoint_numeric[\"header\"]"
   ]
  },
  {
   "cell_type": "code",
   "execution_count": 195,
   "id": "4b7d5296",
   "metadata": {},
   "outputs": [
    {
     "data": {
      "text/plain": [
       "array([[48010226.  ,    35000.  ,    31933.3 , ...,     9452.  ,     8623.82,        1.1 ],\n",
       "       [57693261.  ,    30000.  ,    27132.46, ...,     4679.  ,     4231.76,        1.11],\n",
       "       [59432726.  ,    15000.  ,    13326.3 , ...,     1969.  ,     1749.3 ,        1.13],\n",
       "       ...,\n",
       "       [50415990.  ,    10000.  ,     8910.3 , ...,     2185.  ,     1946.9 ,        1.12],\n",
       "       [46154151.  ,    35000.  ,    31490.9 , ...,     3199.  ,     2878.27,        1.11],\n",
       "       [66055249.  ,    10000.  ,     9145.8 , ...,      301.  ,      275.29,        1.09]])"
      ]
     },
     "execution_count": 195,
     "metadata": {},
     "output_type": "execute_result"
    }
   ],
   "source": [
    "checkpoint_numeric[\"data\"]"
   ]
  },
  {
   "cell_type": "markdown",
   "id": "e8d68a7e",
   "metadata": {},
   "source": [
    "# Creating the complete Dataset"
   ]
  },
  {
   "cell_type": "code",
   "execution_count": 196,
   "id": "2e74d1a1",
   "metadata": {},
   "outputs": [
    {
     "data": {
      "text/plain": [
       "(10000, 6)"
      ]
     },
     "execution_count": 196,
     "metadata": {},
     "output_type": "execute_result"
    }
   ],
   "source": [
    "loan_data_strings.shape"
   ]
  },
  {
   "cell_type": "code",
   "execution_count": 197,
   "id": "c4f24867",
   "metadata": {},
   "outputs": [
    {
     "data": {
      "text/plain": [
       "(10000, 11)"
      ]
     },
     "execution_count": 197,
     "metadata": {},
     "output_type": "execute_result"
    }
   ],
   "source": [
    "loan_data_numeric.shape"
   ]
  },
  {
   "cell_type": "code",
   "execution_count": 201,
   "id": "c42d891c",
   "metadata": {},
   "outputs": [
    {
     "data": {
      "text/plain": [
       "array([[48010226.  ,    35000.  ,    31933.3 , ...,       13.  ,        1.  ,        1.  ],\n",
       "       [57693261.  ,    30000.  ,    27132.46, ...,        5.  ,        1.  ,        4.  ],\n",
       "       [59432726.  ,    15000.  ,    13326.3 , ...,       10.  ,        1.  ,        4.  ],\n",
       "       ...,\n",
       "       [50415990.  ,    10000.  ,     8910.3 , ...,        5.  ,        1.  ,        1.  ],\n",
       "       [46154151.  ,    35000.  ,    31490.9 , ...,       17.  ,        1.  ,        3.  ],\n",
       "       [66055249.  ,    10000.  ,     9145.8 , ...,        4.  ,        0.  ,        3.  ]])"
      ]
     },
     "execution_count": 201,
     "metadata": {},
     "output_type": "execute_result"
    }
   ],
   "source": [
    "np.hstack((checkpoint_numeric[\"data\"],checkpoint_strings[\"data\"]))"
   ]
  },
  {
   "cell_type": "code",
   "execution_count": 205,
   "id": "fb01601a",
   "metadata": {},
   "outputs": [],
   "source": [
    "loan_data = np.hstack((checkpoint_numeric[\"data\"],checkpoint_strings[\"data\"]))"
   ]
  },
  {
   "cell_type": "code",
   "execution_count": 206,
   "id": "e3a72cf7",
   "metadata": {},
   "outputs": [
    {
     "data": {
      "text/plain": [
       "array([[48010226.  ,    35000.  ,    31933.3 , ...,       13.  ,        1.  ,        1.  ],\n",
       "       [57693261.  ,    30000.  ,    27132.46, ...,        5.  ,        1.  ,        4.  ],\n",
       "       [59432726.  ,    15000.  ,    13326.3 , ...,       10.  ,        1.  ,        4.  ],\n",
       "       ...,\n",
       "       [50415990.  ,    10000.  ,     8910.3 , ...,        5.  ,        1.  ,        1.  ],\n",
       "       [46154151.  ,    35000.  ,    31490.9 , ...,       17.  ,        1.  ,        3.  ],\n",
       "       [66055249.  ,    10000.  ,     9145.8 , ...,        4.  ,        0.  ,        3.  ]])"
      ]
     },
     "execution_count": 206,
     "metadata": {},
     "output_type": "execute_result"
    }
   ],
   "source": [
    "loan_data"
   ]
  },
  {
   "cell_type": "code",
   "execution_count": 208,
   "id": "7240623e",
   "metadata": {},
   "outputs": [
    {
     "data": {
      "text/plain": [
       "0"
      ]
     },
     "execution_count": 208,
     "metadata": {},
     "output_type": "execute_result"
    }
   ],
   "source": [
    "np.isnan(loan_data).sum()"
   ]
  },
  {
   "cell_type": "code",
   "execution_count": 210,
   "id": "b24f0296",
   "metadata": {},
   "outputs": [],
   "source": [
    "header_full = np.concatenate((checkpoint_numeric[\"header\"],checkpoint_strings[\"header\"]))"
   ]
  },
  {
   "cell_type": "code",
   "execution_count": 211,
   "id": "5a441a5e",
   "metadata": {},
   "outputs": [
    {
     "data": {
      "text/plain": [
       "array(['id', 'loan_amnt_USD', 'loan_amnt_EUR', 'funded_amnt_USD', 'funded_amnt_EUR', 'int_rate',\n",
       "       'installment_USD', 'installment_EUR', 'total_pymnt_USD', 'total_pymnt_EUR', 'exchange_rate',\n",
       "       'issue_date', 'loan_status', 'term_months', 'sub_grade', 'verification_status',\n",
       "       'state_address'], dtype='<U19')"
      ]
     },
     "execution_count": 211,
     "metadata": {},
     "output_type": "execute_result"
    }
   ],
   "source": [
    "header_full"
   ]
  },
  {
   "cell_type": "markdown",
   "id": "b838da5a",
   "metadata": {},
   "source": [
    "# Sorting the new dataset"
   ]
  },
  {
   "cell_type": "code",
   "execution_count": 212,
   "id": "94481a9e",
   "metadata": {},
   "outputs": [
    {
     "data": {
      "text/plain": [
       "array([48010226., 57693261., 59432726., ..., 50415990., 46154151., 66055249.])"
      ]
     },
     "execution_count": 212,
     "metadata": {},
     "output_type": "execute_result"
    }
   ],
   "source": [
    "loan_data[:,0]"
   ]
  },
  {
   "cell_type": "code",
   "execution_count": 215,
   "id": "a7eff96e",
   "metadata": {},
   "outputs": [],
   "source": [
    "loan_data = loan_data[np.argsort(loan_data[:,0])]"
   ]
  },
  {
   "cell_type": "code",
   "execution_count": 216,
   "id": "f5337805",
   "metadata": {},
   "outputs": [
    {
     "data": {
      "text/plain": [
       "array([[  373332.  ,     9950.  ,     9038.08, ...,       21.  ,        0.  ,        1.  ],\n",
       "       [  575239.  ,    12000.  ,    10900.2 , ...,       25.  ,        1.  ,        2.  ],\n",
       "       [  707689.  ,    10000.  ,     8924.3 , ...,       13.  ,        1.  ,        0.  ],\n",
       "       ...,\n",
       "       [68614880.  ,     5600.  ,     5121.65, ...,        8.  ,        1.  ,        1.  ],\n",
       "       [68615915.  ,     4000.  ,     3658.32, ...,       10.  ,        1.  ,        2.  ],\n",
       "       [68616519.  ,    21600.  ,    19754.93, ...,        3.  ,        0.  ,        2.  ]])"
      ]
     },
     "execution_count": 216,
     "metadata": {},
     "output_type": "execute_result"
    }
   ],
   "source": [
    "loan_data"
   ]
  },
  {
   "cell_type": "code",
   "execution_count": 217,
   "id": "9d29a64d",
   "metadata": {},
   "outputs": [
    {
     "data": {
      "text/plain": [
       "array([   0,    1,    2, ..., 9997, 9998, 9999], dtype=int64)"
      ]
     },
     "execution_count": 217,
     "metadata": {},
     "output_type": "execute_result"
    }
   ],
   "source": [
    "np.argsort(loan_data[:,0])"
   ]
  },
  {
   "cell_type": "markdown",
   "id": "e9478b3b",
   "metadata": {},
   "source": [
    "# Storing the new dataset"
   ]
  },
  {
   "cell_type": "code",
   "execution_count": 219,
   "id": "64ef1a28",
   "metadata": {},
   "outputs": [],
   "source": [
    "loan_data = np.vstack((header_full,loan_data))"
   ]
  },
  {
   "cell_type": "code",
   "execution_count": 220,
   "id": "487fa6cf",
   "metadata": {},
   "outputs": [
    {
     "data": {
      "text/plain": [
       "array([['id', 'loan_amnt_USD', 'loan_amnt_EUR', ..., 'sub_grade', 'verification_status',\n",
       "        'state_address'],\n",
       "       ['373332.0', '9950.0', '9038.082814338286', ..., '21.0', '0.0', '1.0'],\n",
       "       ['575239.0', '12000.0', '10900.20037910145', ..., '25.0', '1.0', '2.0'],\n",
       "       ...,\n",
       "       ['68614880.0', '5600.0', '5121.647851612413', ..., '8.0', '1.0', '1.0'],\n",
       "       ['68615915.0', '4000.0', '3658.319894008867', ..., '10.0', '1.0', '2.0'],\n",
       "       ['68616519.0', '21600.0', '19754.927427647883', ..., '3.0', '0.0', '2.0']], dtype='<U32')"
      ]
     },
     "execution_count": 220,
     "metadata": {},
     "output_type": "execute_result"
    }
   ],
   "source": [
    "loan_data"
   ]
  },
  {
   "cell_type": "code",
   "execution_count": 221,
   "id": "baa4bb6a",
   "metadata": {},
   "outputs": [],
   "source": [
    "np.savetxt(\"loan-data-preprocessed.csv\",loan_data,fmt=\"%s\",delimiter=\",\")"
   ]
  },
  {
   "cell_type": "code",
   "execution_count": null,
   "id": "6fd06097",
   "metadata": {},
   "outputs": [],
   "source": []
  }
 ],
 "metadata": {
  "kernelspec": {
   "display_name": "Python 3 (ipykernel)",
   "language": "python",
   "name": "python3"
  },
  "language_info": {
   "codemirror_mode": {
    "name": "ipython",
    "version": 3
   },
   "file_extension": ".py",
   "mimetype": "text/x-python",
   "name": "python",
   "nbconvert_exporter": "python",
   "pygments_lexer": "ipython3",
   "version": "3.9.13"
  }
 },
 "nbformat": 4,
 "nbformat_minor": 5
}
